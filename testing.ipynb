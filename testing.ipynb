{
 "cells": [
  {
   "cell_type": "code",
   "execution_count": 1,
   "metadata": {},
   "outputs": [],
   "source": [
    "from linguist import Linguist\n",
    "import pandas as pd"
   ]
  },
  {
   "cell_type": "code",
   "execution_count": 60,
   "metadata": {},
   "outputs": [
    {
     "data": {
      "text/html": [
       "<div>\n",
       "<style scoped>\n",
       "    .dataframe tbody tr th:only-of-type {\n",
       "        vertical-align: middle;\n",
       "    }\n",
       "\n",
       "    .dataframe tbody tr th {\n",
       "        vertical-align: top;\n",
       "    }\n",
       "\n",
       "    .dataframe thead th {\n",
       "        text-align: right;\n",
       "    }\n",
       "</style>\n",
       "<table border=\"1\" class=\"dataframe\">\n",
       "  <thead>\n",
       "    <tr style=\"text-align: right;\">\n",
       "      <th></th>\n",
       "      <th>username</th>\n",
       "      <th>name</th>\n",
       "      <th>locale</th>\n",
       "      <th>team</th>\n",
       "      <th>contract_hours</th>\n",
       "      <th>output</th>\n",
       "      <th>keep_deadlines</th>\n",
       "      <th>start_time</th>\n",
       "      <th>end_time</th>\n",
       "      <th>plate</th>\n",
       "      <th>client_exp</th>\n",
       "      <th>expertise</th>\n",
       "      <th>client_redflag</th>\n",
       "      <th>translation</th>\n",
       "      <th>review</th>\n",
       "      <th>lso</th>\n",
       "      <th>client_meeting</th>\n",
       "      <th>test_translation</th>\n",
       "    </tr>\n",
       "  </thead>\n",
       "  <tbody>\n",
       "    <tr>\n",
       "      <th>0</th>\n",
       "      <td>farm</td>\n",
       "      <td>farm bro</td>\n",
       "      <td>fb</td>\n",
       "      <td>fashion</td>\n",
       "      <td>8.0</td>\n",
       "      <td>2400</td>\n",
       "      <td>10</td>\n",
       "      <td>09:00:00</td>\n",
       "      <td>17:00:00</td>\n",
       "      <td></td>\n",
       "      <td></td>\n",
       "      <td></td>\n",
       "      <td></td>\n",
       "      <td>True</td>\n",
       "      <td>True</td>\n",
       "      <td>True</td>\n",
       "      <td>True</td>\n",
       "      <td>True</td>\n",
       "    </tr>\n",
       "    <tr>\n",
       "      <th>1</th>\n",
       "      <td>kensolo</td>\n",
       "      <td>Ken Solo</td>\n",
       "      <td>ks</td>\n",
       "      <td>fashion</td>\n",
       "      <td>8.0</td>\n",
       "      <td>100000</td>\n",
       "      <td>10</td>\n",
       "      <td>09:00:00</td>\n",
       "      <td>23:00:00</td>\n",
       "      <td>review2,translation</td>\n",
       "      <td></td>\n",
       "      <td></td>\n",
       "      <td></td>\n",
       "      <td>True</td>\n",
       "      <td>True</td>\n",
       "      <td>True</td>\n",
       "      <td>True</td>\n",
       "      <td>True</td>\n",
       "    </tr>\n",
       "  </tbody>\n",
       "</table>\n",
       "</div>"
      ],
      "text/plain": [
       "  username      name locale     team  contract_hours  output  keep_deadlines  \\\n",
       "0     farm  farm bro     fb  fashion             8.0    2400              10   \n",
       "1  kensolo  Ken Solo     ks  fashion             8.0  100000              10   \n",
       "\n",
       "  start_time  end_time                plate client_exp expertise  \\\n",
       "0   09:00:00  17:00:00                                             \n",
       "1   09:00:00  23:00:00  review2,translation                        \n",
       "\n",
       "  client_redflag  translation  review   lso  client_meeting  test_translation  \n",
       "0                        True    True  True            True              True  \n",
       "1                        True    True  True            True              True  "
      ]
     },
     "execution_count": 60,
     "metadata": {},
     "output_type": "execute_result"
    }
   ],
   "source": [
    "linguists = pd.read_pickle('database/fashion/fashion_linguists.pkl')\n",
    "linguists"
   ]
  },
  {
   "cell_type": "code",
   "execution_count": 67,
   "metadata": {},
   "outputs": [
    {
     "data": {
      "text/plain": [
       "datetime.time(17, 0)"
      ]
     },
     "execution_count": 67,
     "metadata": {},
     "output_type": "execute_result"
    }
   ],
   "source": [
    "end_time = linguists.loc[linguists[\"username\"] == \"farm\", \"end_time\"].values[0]\n",
    "end_time"
   ]
  },
  {
   "cell_type": "code",
   "execution_count": 39,
   "metadata": {},
   "outputs": [
    {
     "data": {
      "text/plain": [
       "datetime.datetime(2023, 6, 30, 17, 0)"
      ]
     },
     "execution_count": 39,
     "metadata": {},
     "output_type": "execute_result"
    }
   ],
   "source": [
    "end_time_dt = pd.Timestamp(end_time).to_pydatetime()\n",
    "# end_time_dt = end_time_pd.to_pydatetime()\n",
    "end_time_dt"
   ]
  },
  {
   "cell_type": "code",
   "execution_count": 38,
   "metadata": {},
   "outputs": [
    {
     "data": {
      "text/plain": [
       "datetime.datetime(2023, 6, 30, 22, 51, 2, 480349)"
      ]
     },
     "execution_count": 38,
     "metadata": {},
     "output_type": "execute_result"
    }
   ],
   "source": [
    "now"
   ]
  },
  {
   "cell_type": "code",
   "execution_count": 40,
   "metadata": {},
   "outputs": [
    {
     "name": "stdout",
     "output_type": "stream",
     "text": [
      "5.850688985833334\n"
     ]
    }
   ],
   "source": [
    "print((now - end_time_dt).total_seconds() / 3600)"
   ]
  },
  {
   "cell_type": "code",
   "execution_count": 70,
   "metadata": {},
   "outputs": [
    {
     "data": {
      "text/html": [
       "<div>\n",
       "<style scoped>\n",
       "    .dataframe tbody tr th:only-of-type {\n",
       "        vertical-align: middle;\n",
       "    }\n",
       "\n",
       "    .dataframe tbody tr th {\n",
       "        vertical-align: top;\n",
       "    }\n",
       "\n",
       "    .dataframe thead th {\n",
       "        text-align: right;\n",
       "    }\n",
       "</style>\n",
       "<table border=\"1\" class=\"dataframe\">\n",
       "  <thead>\n",
       "    <tr style=\"text-align: right;\">\n",
       "      <th></th>\n",
       "      <th>username</th>\n",
       "      <th>contractual_availability</th>\n",
       "      <th>2023-07-01</th>\n",
       "    </tr>\n",
       "  </thead>\n",
       "  <tbody>\n",
       "    <tr>\n",
       "      <th>0</th>\n",
       "      <td>kensolo</td>\n",
       "      <td>8.0</td>\n",
       "      <td>0.048</td>\n",
       "    </tr>\n",
       "  </tbody>\n",
       "</table>\n",
       "</div>"
      ],
      "text/plain": [
       "  username  contractual_availability  2023-07-01\n",
       "0  kensolo                       8.0       0.048"
      ]
     },
     "execution_count": 70,
     "metadata": {},
     "output_type": "execute_result"
    }
   ],
   "source": [
    "df = pd.read_pickle('database/fashion/kensolo_workload.pkl')\n",
    "df"
   ]
  },
  {
   "cell_type": "code",
   "execution_count": 47,
   "metadata": {},
   "outputs": [],
   "source": [
    "df = pd.DataFrame({\n",
    "    'name': ['JohnDoe', 'Alice', 'Bob', 'JohnDoe'],\n",
    "    'age': [25, 24, 22, 25],\n",
    "    'assignee': ['a', 'b', 'a', 'a'],\n",
    "    'city': ['london', 'liverpool', 'london', 'liverpool']\n",
    "})"
   ]
  },
  {
   "cell_type": "code",
   "execution_count": 48,
   "metadata": {},
   "outputs": [
    {
     "name": "stdout",
     "output_type": "stream",
     "text": [
      "47\n"
     ]
    }
   ],
   "source": [
    "# Define conditions for 'assignee' and 'city'\n",
    "condition = (df['assignee'] == 'a') & (df['city'] == 'london')\n",
    "\n",
    "# Calculate the sum of 'age' for those rows satisfying the condition\n",
    "sum_age = df[condition]['age'].sum()\n",
    "\n",
    "print(sum_age)"
   ]
  },
  {
   "cell_type": "code",
   "execution_count": 58,
   "metadata": {},
   "outputs": [
    {
     "data": {
      "text/html": [
       "<div>\n",
       "<style scoped>\n",
       "    .dataframe tbody tr th:only-of-type {\n",
       "        vertical-align: middle;\n",
       "    }\n",
       "\n",
       "    .dataframe tbody tr th {\n",
       "        vertical-align: top;\n",
       "    }\n",
       "\n",
       "    .dataframe thead th {\n",
       "        text-align: right;\n",
       "    }\n",
       "</style>\n",
       "<table border=\"1\" class=\"dataframe\">\n",
       "  <thead>\n",
       "    <tr style=\"text-align: right;\">\n",
       "      <th></th>\n",
       "      <th>name</th>\n",
       "      <th>locale</th>\n",
       "      <th>task_type</th>\n",
       "      <th>deadline</th>\n",
       "      <th>default_rate</th>\n",
       "      <th>required_hours</th>\n",
       "      <th>assignee_required_hours</th>\n",
       "      <th>team</th>\n",
       "      <th>assignee</th>\n",
       "      <th>status</th>\n",
       "      <th>completion_date</th>\n",
       "      <th>start_datetime</th>\n",
       "      <th>end_datetime</th>\n",
       "    </tr>\n",
       "  </thead>\n",
       "  <tbody>\n",
       "    <tr>\n",
       "      <th>0</th>\n",
       "      <td>review</td>\n",
       "      <td>tw</td>\n",
       "      <td>review</td>\n",
       "      <td>2023-06-30 17:00:00</td>\n",
       "      <td>2400</td>\n",
       "      <td>1.5</td>\n",
       "      <td>None</td>\n",
       "      <td>fashion</td>\n",
       "      <td>None</td>\n",
       "      <td>Open</td>\n",
       "      <td>None</td>\n",
       "      <td>None</td>\n",
       "      <td>None</td>\n",
       "    </tr>\n",
       "    <tr>\n",
       "      <th>1</th>\n",
       "      <td>review2</td>\n",
       "      <td>tw</td>\n",
       "      <td>review</td>\n",
       "      <td>2023-07-01 17:00:00</td>\n",
       "      <td>2400</td>\n",
       "      <td>2.0</td>\n",
       "      <td>0.048</td>\n",
       "      <td>fashion</td>\n",
       "      <td>kensolo</td>\n",
       "      <td>Open</td>\n",
       "      <td>None</td>\n",
       "      <td>2023-07-01 16:57:07.200000</td>\n",
       "      <td>2023-07-01 17:00:00</td>\n",
       "    </tr>\n",
       "    <tr>\n",
       "      <th>2</th>\n",
       "      <td>review2</td>\n",
       "      <td>tw</td>\n",
       "      <td>review</td>\n",
       "      <td>2023-07-01 17:00:00</td>\n",
       "      <td>2400</td>\n",
       "      <td>2.0</td>\n",
       "      <td>0.048</td>\n",
       "      <td>fashion</td>\n",
       "      <td>kensolo</td>\n",
       "      <td>Open</td>\n",
       "      <td>None</td>\n",
       "      <td>2023-07-01 16:57:07.200000</td>\n",
       "      <td>2023-07-01 17:00:00</td>\n",
       "    </tr>\n",
       "    <tr>\n",
       "      <th>3</th>\n",
       "      <td>translation</td>\n",
       "      <td>tw</td>\n",
       "      <td>review</td>\n",
       "      <td>2023-07-01 17:00:00</td>\n",
       "      <td>2400</td>\n",
       "      <td>2.0</td>\n",
       "      <td>0.048</td>\n",
       "      <td>fashion</td>\n",
       "      <td>kensolo</td>\n",
       "      <td>Open</td>\n",
       "      <td>None</td>\n",
       "      <td>2023-07-01 16:51:21.600000</td>\n",
       "      <td>2023-07-01 16:54:14.400000</td>\n",
       "    </tr>\n",
       "    <tr>\n",
       "      <th>4</th>\n",
       "      <td>translation2</td>\n",
       "      <td>tw</td>\n",
       "      <td>review</td>\n",
       "      <td>2023-07-02 17:00:00</td>\n",
       "      <td>2400</td>\n",
       "      <td>2.0</td>\n",
       "      <td>None</td>\n",
       "      <td>fashion</td>\n",
       "      <td>None</td>\n",
       "      <td>Open</td>\n",
       "      <td>None</td>\n",
       "      <td>None</td>\n",
       "      <td>None</td>\n",
       "    </tr>\n",
       "  </tbody>\n",
       "</table>\n",
       "</div>"
      ],
      "text/plain": [
       "           name locale task_type            deadline  default_rate  \\\n",
       "0        review     tw    review 2023-06-30 17:00:00          2400   \n",
       "1       review2     tw    review 2023-07-01 17:00:00          2400   \n",
       "2       review2     tw    review 2023-07-01 17:00:00          2400   \n",
       "3   translation     tw    review 2023-07-01 17:00:00          2400   \n",
       "4  translation2     tw    review 2023-07-02 17:00:00          2400   \n",
       "\n",
       "   required_hours assignee_required_hours     team assignee status  \\\n",
       "0             1.5                    None  fashion     None   Open   \n",
       "1             2.0                   0.048  fashion  kensolo   Open   \n",
       "2             2.0                   0.048  fashion  kensolo   Open   \n",
       "3             2.0                   0.048  fashion  kensolo   Open   \n",
       "4             2.0                    None  fashion     None   Open   \n",
       "\n",
       "  completion_date              start_datetime                end_datetime  \n",
       "0            None                        None                        None  \n",
       "1            None  2023-07-01 16:57:07.200000         2023-07-01 17:00:00  \n",
       "2            None  2023-07-01 16:57:07.200000         2023-07-01 17:00:00  \n",
       "3            None  2023-07-01 16:51:21.600000  2023-07-01 16:54:14.400000  \n",
       "4            None                        None                        None  "
      ]
     },
     "execution_count": 58,
     "metadata": {},
     "output_type": "execute_result"
    }
   ],
   "source": [
    "tasks = pd.read_pickle('database/fashion/fashion_tasks.pkl')\n",
    "tasks"
   ]
  },
  {
   "cell_type": "code",
   "execution_count": 19,
   "metadata": {},
   "outputs": [
    {
     "data": {
      "text/plain": [
       "False"
      ]
     },
     "execution_count": 19,
     "metadata": {},
     "output_type": "execute_result"
    }
   ],
   "source": [
    "\"requidddred_hours\" in tasks.columns"
   ]
  },
  {
   "cell_type": "code",
   "execution_count": 64,
   "metadata": {},
   "outputs": [],
   "source": [
    "tasks['deadline'] = pd.to_datetime(tasks['deadline'])\n",
    "today = datetime.now().strftime('%Y-%m-%d')\n",
    "deadline_dates = tasks['deadline'].dt.date.astype(str)\n",
    "condition = (deadline_dates == today) & (tasks[\"assignee\"] == \"kensolo\")\n",
    "sum_hrs = tasks[condition][\"required_hours\"].sum()"
   ]
  },
  {
   "cell_type": "code",
   "execution_count": 70,
   "metadata": {},
   "outputs": [
    {
     "data": {
      "text/plain": [
       "0    2023-06-30\n",
       "1    2023-07-01\n",
       "Name: deadline, dtype: object"
      ]
     },
     "execution_count": 70,
     "metadata": {},
     "output_type": "execute_result"
    }
   ],
   "source": [
    "deadline_dates"
   ]
  },
  {
   "cell_type": "code",
   "execution_count": 66,
   "metadata": {},
   "outputs": [
    {
     "data": {
      "text/html": [
       "<div>\n",
       "<style scoped>\n",
       "    .dataframe tbody tr th:only-of-type {\n",
       "        vertical-align: middle;\n",
       "    }\n",
       "\n",
       "    .dataframe tbody tr th {\n",
       "        vertical-align: top;\n",
       "    }\n",
       "\n",
       "    .dataframe thead th {\n",
       "        text-align: right;\n",
       "    }\n",
       "</style>\n",
       "<table border=\"1\" class=\"dataframe\">\n",
       "  <thead>\n",
       "    <tr style=\"text-align: right;\">\n",
       "      <th></th>\n",
       "      <th>name</th>\n",
       "      <th>locale</th>\n",
       "      <th>task_type</th>\n",
       "      <th>deadline</th>\n",
       "      <th>default_rate</th>\n",
       "      <th>required_hours</th>\n",
       "      <th>assignee_required_hours</th>\n",
       "      <th>team</th>\n",
       "      <th>assignee</th>\n",
       "      <th>status</th>\n",
       "      <th>completion_date</th>\n",
       "      <th>start_datetime</th>\n",
       "      <th>end_datetime</th>\n",
       "    </tr>\n",
       "  </thead>\n",
       "  <tbody>\n",
       "    <tr>\n",
       "      <th>0</th>\n",
       "      <td>review</td>\n",
       "      <td>tw</td>\n",
       "      <td>review</td>\n",
       "      <td>2023-06-30 17:00:00</td>\n",
       "      <td>2400</td>\n",
       "      <td>1.5</td>\n",
       "      <td>None</td>\n",
       "      <td>fashion</td>\n",
       "      <td>None</td>\n",
       "      <td>Open</td>\n",
       "      <td>None</td>\n",
       "      <td>None</td>\n",
       "      <td>None</td>\n",
       "    </tr>\n",
       "    <tr>\n",
       "      <th>1</th>\n",
       "      <td>review2</td>\n",
       "      <td>tw</td>\n",
       "      <td>review</td>\n",
       "      <td>2023-07-01 17:00:00</td>\n",
       "      <td>2400</td>\n",
       "      <td>2.0</td>\n",
       "      <td>None</td>\n",
       "      <td>fashion</td>\n",
       "      <td>None</td>\n",
       "      <td>Open</td>\n",
       "      <td>None</td>\n",
       "      <td>None</td>\n",
       "      <td>None</td>\n",
       "    </tr>\n",
       "  </tbody>\n",
       "</table>\n",
       "</div>"
      ],
      "text/plain": [
       "      name locale task_type            deadline  default_rate  required_hours  \\\n",
       "0   review     tw    review 2023-06-30 17:00:00          2400             1.5   \n",
       "1  review2     tw    review 2023-07-01 17:00:00          2400             2.0   \n",
       "\n",
       "  assignee_required_hours     team assignee status completion_date  \\\n",
       "0                    None  fashion     None   Open            None   \n",
       "1                    None  fashion     None   Open            None   \n",
       "\n",
       "  start_datetime end_datetime  \n",
       "0           None         None  \n",
       "1           None         None  "
      ]
     },
     "execution_count": 66,
     "metadata": {},
     "output_type": "execute_result"
    }
   ],
   "source": [
    "tasks"
   ]
  },
  {
   "cell_type": "code",
   "execution_count": 67,
   "metadata": {},
   "outputs": [
    {
     "data": {
      "text/plain": [
       "dtype('<M8[ns]')"
      ]
     },
     "execution_count": 67,
     "metadata": {},
     "output_type": "execute_result"
    }
   ],
   "source": [
    "tasks['deadline'].dtype"
   ]
  },
  {
   "cell_type": "code",
   "execution_count": 27,
   "metadata": {},
   "outputs": [],
   "source": [
    "from datetime import datetime, timedelta"
   ]
  },
  {
   "cell_type": "code",
   "execution_count": 24,
   "metadata": {},
   "outputs": [],
   "source": [
    "my_dt = datetime(2023, 7, 1, 16, 57, 7, 200000)"
   ]
  },
  {
   "cell_type": "code",
   "execution_count": 36,
   "metadata": {},
   "outputs": [
    {
     "data": {
      "text/plain": [
       "'2023-06-30'"
      ]
     },
     "execution_count": 36,
     "metadata": {},
     "output_type": "execute_result"
    }
   ],
   "source": [
    "new_dt = my_dt - timedelta(hours=24)\n",
    "string_new_dt = new_dt.strftime('%Y-%m-%d')\n",
    "string_new_dt"
   ]
  },
  {
   "cell_type": "code",
   "execution_count": 38,
   "metadata": {},
   "outputs": [
    {
     "data": {
      "text/plain": [
       "datetime.datetime(2023, 6, 30, 0, 0)"
      ]
     },
     "execution_count": 38,
     "metadata": {},
     "output_type": "execute_result"
    }
   ],
   "source": [
    "new_dt_datetime = datetime.strptime(string_new_dt, '%Y-%m-%d')\n",
    "new_dt_datetime"
   ]
  },
  {
   "cell_type": "code",
   "execution_count": null,
   "metadata": {},
   "outputs": [],
   "source": []
  }
 ],
 "metadata": {
  "kernelspec": {
   "display_name": "venv",
   "language": "python",
   "name": "python3"
  },
  "language_info": {
   "codemirror_mode": {
    "name": "ipython",
    "version": 3
   },
   "file_extension": ".py",
   "mimetype": "text/x-python",
   "name": "python",
   "nbconvert_exporter": "python",
   "pygments_lexer": "ipython3",
   "version": "3.11.3"
  },
  "orig_nbformat": 4
 },
 "nbformat": 4,
 "nbformat_minor": 2
}
