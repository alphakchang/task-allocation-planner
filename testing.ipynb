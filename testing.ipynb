{
 "cells": [
  {
   "cell_type": "code",
   "execution_count": 2,
   "metadata": {},
   "outputs": [],
   "source": [
    "from linguist import Linguist\n",
    "import pandas as pd"
   ]
  },
  {
   "cell_type": "code",
   "execution_count": 10,
   "metadata": {},
   "outputs": [
    {
     "data": {
      "text/plain": [
       "1.795967732777778"
      ]
     },
     "execution_count": 10,
     "metadata": {},
     "output_type": "execute_result"
    }
   ],
   "source": [
    "ken = Linguist(\"ken\", \"TW\", \"Nexus\")\n",
    "ken.remaining_availability_today"
   ]
  },
  {
   "cell_type": "code",
   "execution_count": 12,
   "metadata": {},
   "outputs": [
    {
     "name": "stdout",
     "output_type": "stream",
     "text": [
      "team: Nexus\n"
     ]
    },
    {
     "data": {
      "text/plain": [
       "'Nexus'"
      ]
     },
     "execution_count": 12,
     "metadata": {},
     "output_type": "execute_result"
    }
   ],
   "source": [
    "ken.get_attribute(\"team\")"
   ]
  },
  {
   "cell_type": "code",
   "execution_count": null,
   "metadata": {},
   "outputs": [],
   "source": [
    "data = vars(ken)"
   ]
  },
  {
   "cell_type": "code",
   "execution_count": null,
   "metadata": {},
   "outputs": [],
   "source": [
    "df = pd.DataFrame([data])"
   ]
  },
  {
   "cell_type": "code",
   "execution_count": null,
   "metadata": {},
   "outputs": [],
   "source": [
    "df.head()"
   ]
  },
  {
   "cell_type": "code",
   "execution_count": null,
   "metadata": {},
   "outputs": [],
   "source": [
    "dff = pd.DataFrame({'column_name': [1, 2, 3], 'another_column': ['a', 'b', 'c']})\n",
    "dff"
   ]
  },
  {
   "cell_type": "code",
   "execution_count": null,
   "metadata": {},
   "outputs": [],
   "source": [
    "dff.loc[dff[\"another_column\"] == \"b\", 'column_name'] = 'new_value'\n",
    "dff"
   ]
  },
  {
   "cell_type": "code",
   "execution_count": null,
   "metadata": {},
   "outputs": [],
   "source": [
    "extracted = dff.loc[0, 'column_name']\n",
    "extracted"
   ]
  },
  {
   "cell_type": "code",
   "execution_count": null,
   "metadata": {},
   "outputs": [],
   "source": [
    "type(extracted)"
   ]
  },
  {
   "cell_type": "code",
   "execution_count": null,
   "metadata": {},
   "outputs": [],
   "source": [
    "plate_plate = extracted.split('_')\n",
    "plate_plate"
   ]
  },
  {
   "cell_type": "code",
   "execution_count": null,
   "metadata": {},
   "outputs": [],
   "source": [
    "type(plate_plate)"
   ]
  },
  {
   "cell_type": "code",
   "execution_count": null,
   "metadata": {},
   "outputs": [],
   "source": [
    "string_sample = ','.join(plate_plate)\n",
    "string_sample"
   ]
  },
  {
   "cell_type": "code",
   "execution_count": null,
   "metadata": {},
   "outputs": [],
   "source": [
    "dff.loc[0, 'column_name'] = string_sample\n",
    "dff"
   ]
  },
  {
   "cell_type": "code",
   "execution_count": null,
   "metadata": {},
   "outputs": [],
   "source": [
    "df.to_pickle('linguist.pkl')"
   ]
  },
  {
   "cell_type": "code",
   "execution_count": null,
   "metadata": {},
   "outputs": [],
   "source": [
    "df = pd.read_pickle('linguist.pkl')"
   ]
  },
  {
   "cell_type": "code",
   "execution_count": null,
   "metadata": {},
   "outputs": [],
   "source": [
    "df"
   ]
  },
  {
   "cell_type": "code",
   "execution_count": null,
   "metadata": {},
   "outputs": [],
   "source": [
    "farm = Linguist(\"farm\", \"NL\", \"Nexus\")"
   ]
  },
  {
   "cell_type": "code",
   "execution_count": null,
   "metadata": {},
   "outputs": [],
   "source": [
    "data = vars(farm)"
   ]
  },
  {
   "cell_type": "code",
   "execution_count": null,
   "metadata": {},
   "outputs": [],
   "source": [
    "data"
   ]
  },
  {
   "cell_type": "code",
   "execution_count": null,
   "metadata": {},
   "outputs": [],
   "source": [
    "dff = pd.DataFrame([data])\n",
    "dff"
   ]
  },
  {
   "cell_type": "code",
   "execution_count": null,
   "metadata": {},
   "outputs": [],
   "source": [
    "df"
   ]
  },
  {
   "cell_type": "code",
   "execution_count": null,
   "metadata": {},
   "outputs": [],
   "source": [
    "dff.columns"
   ]
  },
  {
   "cell_type": "code",
   "execution_count": null,
   "metadata": {},
   "outputs": [],
   "source": [
    "df.columns"
   ]
  },
  {
   "cell_type": "code",
   "execution_count": null,
   "metadata": {},
   "outputs": [],
   "source": [
    "print(df.columns == dff.columns)"
   ]
  },
  {
   "cell_type": "code",
   "execution_count": null,
   "metadata": {},
   "outputs": [],
   "source": [
    "df.loc[len(df)] = dff.iloc[0, :]"
   ]
  },
  {
   "cell_type": "code",
   "execution_count": null,
   "metadata": {},
   "outputs": [],
   "source": [
    "df"
   ]
  },
  {
   "cell_type": "code",
   "execution_count": null,
   "metadata": {},
   "outputs": [],
   "source": [
    "df.to_pickle('linguist.pkl')"
   ]
  },
  {
   "cell_type": "code",
   "execution_count": 3,
   "metadata": {},
   "outputs": [
    {
     "data": {
      "text/html": [
       "<div>\n",
       "<style scoped>\n",
       "    .dataframe tbody tr th:only-of-type {\n",
       "        vertical-align: middle;\n",
       "    }\n",
       "\n",
       "    .dataframe tbody tr th {\n",
       "        vertical-align: top;\n",
       "    }\n",
       "\n",
       "    .dataframe thead th {\n",
       "        text-align: right;\n",
       "    }\n",
       "</style>\n",
       "<table border=\"1\" class=\"dataframe\">\n",
       "  <thead>\n",
       "    <tr style=\"text-align: right;\">\n",
       "      <th></th>\n",
       "      <th>name</th>\n",
       "      <th>locale</th>\n",
       "      <th>team</th>\n",
       "      <th>start_time</th>\n",
       "      <th>end_time</th>\n",
       "      <th>contract_hours</th>\n",
       "      <th>output</th>\n",
       "      <th>keep_deadlines</th>\n",
       "      <th>plate</th>\n",
       "      <th>client_exp</th>\n",
       "      <th>expertise</th>\n",
       "      <th>client_feedback</th>\n",
       "      <th>translation</th>\n",
       "      <th>review</th>\n",
       "      <th>lso</th>\n",
       "      <th>client_meeting</th>\n",
       "      <th>test_translation</th>\n",
       "    </tr>\n",
       "  </thead>\n",
       "  <tbody>\n",
       "    <tr>\n",
       "      <th>0</th>\n",
       "      <td>ken</td>\n",
       "      <td>TW</td>\n",
       "      <td>Nexus</td>\n",
       "      <td>2023-06-28 09:00:00</td>\n",
       "      <td>2023-06-28 17:00:00</td>\n",
       "      <td>8.0</td>\n",
       "      <td>2400</td>\n",
       "      <td>10</td>\n",
       "      <td>[]</td>\n",
       "      <td>{}</td>\n",
       "      <td>{}</td>\n",
       "      <td>{}</td>\n",
       "      <td>True</td>\n",
       "      <td>True</td>\n",
       "      <td>True</td>\n",
       "      <td>True</td>\n",
       "      <td>True</td>\n",
       "    </tr>\n",
       "    <tr>\n",
       "      <th>1</th>\n",
       "      <td>farm</td>\n",
       "      <td>NL</td>\n",
       "      <td>Nexus</td>\n",
       "      <td>2023-06-28 09:00:00</td>\n",
       "      <td>2023-06-28 17:00:00</td>\n",
       "      <td>8.0</td>\n",
       "      <td>2400</td>\n",
       "      <td>10</td>\n",
       "      <td>[]</td>\n",
       "      <td>{}</td>\n",
       "      <td>{}</td>\n",
       "      <td>{}</td>\n",
       "      <td>True</td>\n",
       "      <td>True</td>\n",
       "      <td>True</td>\n",
       "      <td>True</td>\n",
       "      <td>True</td>\n",
       "    </tr>\n",
       "  </tbody>\n",
       "</table>\n",
       "</div>"
      ],
      "text/plain": [
       "   name locale   team          start_time            end_time  contract_hours  \\\n",
       "0   ken     TW  Nexus 2023-06-28 09:00:00 2023-06-28 17:00:00             8.0   \n",
       "1  farm     NL  Nexus 2023-06-28 09:00:00 2023-06-28 17:00:00             8.0   \n",
       "\n",
       "   output  keep_deadlines plate client_exp expertise client_feedback  \\\n",
       "0    2400              10    []         {}        {}              {}   \n",
       "1    2400              10    []         {}        {}              {}   \n",
       "\n",
       "   translation  review   lso  client_meeting  test_translation  \n",
       "0         True    True  True            True              True  \n",
       "1         True    True  True            True              True  "
      ]
     },
     "execution_count": 3,
     "metadata": {},
     "output_type": "execute_result"
    }
   ],
   "source": [
    "df = pd.read_pickle('linguist.pkl')\n",
    "df"
   ]
  },
  {
   "cell_type": "code",
   "execution_count": 8,
   "metadata": {},
   "outputs": [],
   "source": [
    "df.loc[df[\"name\"] ==\"farm\", \"keep_deadlines\"] = df.loc[df[\"name\"] ==\"farm\", \"keep_deadlines\"] - 1"
   ]
  },
  {
   "cell_type": "code",
   "execution_count": 9,
   "metadata": {},
   "outputs": [
    {
     "data": {
      "text/html": [
       "<div>\n",
       "<style scoped>\n",
       "    .dataframe tbody tr th:only-of-type {\n",
       "        vertical-align: middle;\n",
       "    }\n",
       "\n",
       "    .dataframe tbody tr th {\n",
       "        vertical-align: top;\n",
       "    }\n",
       "\n",
       "    .dataframe thead th {\n",
       "        text-align: right;\n",
       "    }\n",
       "</style>\n",
       "<table border=\"1\" class=\"dataframe\">\n",
       "  <thead>\n",
       "    <tr style=\"text-align: right;\">\n",
       "      <th></th>\n",
       "      <th>name</th>\n",
       "      <th>locale</th>\n",
       "      <th>team</th>\n",
       "      <th>start_time</th>\n",
       "      <th>end_time</th>\n",
       "      <th>contract_hours</th>\n",
       "      <th>output</th>\n",
       "      <th>keep_deadlines</th>\n",
       "      <th>plate</th>\n",
       "      <th>client_exp</th>\n",
       "      <th>expertise</th>\n",
       "      <th>client_feedback</th>\n",
       "      <th>translation</th>\n",
       "      <th>review</th>\n",
       "      <th>lso</th>\n",
       "      <th>client_meeting</th>\n",
       "      <th>test_translation</th>\n",
       "    </tr>\n",
       "  </thead>\n",
       "  <tbody>\n",
       "    <tr>\n",
       "      <th>0</th>\n",
       "      <td>ken</td>\n",
       "      <td>TW</td>\n",
       "      <td>Nexus</td>\n",
       "      <td>2023-06-28 09:00:00</td>\n",
       "      <td>2023-06-28 17:00:00</td>\n",
       "      <td>8.0</td>\n",
       "      <td>2400</td>\n",
       "      <td>10</td>\n",
       "      <td>[]</td>\n",
       "      <td>{}</td>\n",
       "      <td>{}</td>\n",
       "      <td>{}</td>\n",
       "      <td>True</td>\n",
       "      <td>True</td>\n",
       "      <td>True</td>\n",
       "      <td>True</td>\n",
       "      <td>True</td>\n",
       "    </tr>\n",
       "    <tr>\n",
       "      <th>1</th>\n",
       "      <td>farm</td>\n",
       "      <td>NL</td>\n",
       "      <td>Nexus</td>\n",
       "      <td>2023-06-28 09:00:00</td>\n",
       "      <td>2023-06-28 17:00:00</td>\n",
       "      <td>8.0</td>\n",
       "      <td>2400</td>\n",
       "      <td>8</td>\n",
       "      <td>[]</td>\n",
       "      <td>{}</td>\n",
       "      <td>{}</td>\n",
       "      <td>{}</td>\n",
       "      <td>True</td>\n",
       "      <td>True</td>\n",
       "      <td>True</td>\n",
       "      <td>True</td>\n",
       "      <td>True</td>\n",
       "    </tr>\n",
       "  </tbody>\n",
       "</table>\n",
       "</div>"
      ],
      "text/plain": [
       "   name locale   team          start_time            end_time  contract_hours  \\\n",
       "0   ken     TW  Nexus 2023-06-28 09:00:00 2023-06-28 17:00:00             8.0   \n",
       "1  farm     NL  Nexus 2023-06-28 09:00:00 2023-06-28 17:00:00             8.0   \n",
       "\n",
       "   output  keep_deadlines plate client_exp expertise client_feedback  \\\n",
       "0    2400              10    []         {}        {}              {}   \n",
       "1    2400               8    []         {}        {}              {}   \n",
       "\n",
       "   translation  review   lso  client_meeting  test_translation  \n",
       "0         True    True  True            True              True  \n",
       "1         True    True  True            True              True  "
      ]
     },
     "execution_count": 9,
     "metadata": {},
     "output_type": "execute_result"
    }
   ],
   "source": [
    "df"
   ]
  },
  {
   "cell_type": "code",
   "execution_count": 25,
   "metadata": {},
   "outputs": [
    {
     "data": {
      "text/html": [
       "<div>\n",
       "<style scoped>\n",
       "    .dataframe tbody tr th:only-of-type {\n",
       "        vertical-align: middle;\n",
       "    }\n",
       "\n",
       "    .dataframe tbody tr th {\n",
       "        vertical-align: top;\n",
       "    }\n",
       "\n",
       "    .dataframe thead th {\n",
       "        text-align: right;\n",
       "    }\n",
       "</style>\n",
       "<table border=\"1\" class=\"dataframe\">\n",
       "  <thead>\n",
       "    <tr style=\"text-align: right;\">\n",
       "      <th></th>\n",
       "      <th>username</th>\n",
       "      <th>name</th>\n",
       "      <th>locale</th>\n",
       "      <th>team</th>\n",
       "      <th>contract_hours</th>\n",
       "      <th>output</th>\n",
       "      <th>keep_deadlines</th>\n",
       "      <th>start_time</th>\n",
       "      <th>end_time</th>\n",
       "      <th>plate</th>\n",
       "      <th>client_exp</th>\n",
       "      <th>expertise</th>\n",
       "      <th>client_redflag</th>\n",
       "      <th>translation</th>\n",
       "      <th>review</th>\n",
       "      <th>lso</th>\n",
       "      <th>client_meeting</th>\n",
       "      <th>test_translation</th>\n",
       "    </tr>\n",
       "  </thead>\n",
       "  <tbody>\n",
       "    <tr>\n",
       "      <th>0</th>\n",
       "      <td>ksolo</td>\n",
       "      <td>ken solo</td>\n",
       "      <td>ks</td>\n",
       "      <td>nexus</td>\n",
       "      <td>8.0</td>\n",
       "      <td>2400</td>\n",
       "      <td>10</td>\n",
       "      <td>2023-06-28 09:00:00</td>\n",
       "      <td>2023-06-28 17:00:00</td>\n",
       "      <td>[]</td>\n",
       "      <td>{}</td>\n",
       "      <td>{}</td>\n",
       "      <td>{}</td>\n",
       "      <td>True</td>\n",
       "      <td>True</td>\n",
       "      <td>True</td>\n",
       "      <td>True</td>\n",
       "      <td>True</td>\n",
       "    </tr>\n",
       "    <tr>\n",
       "      <th>1</th>\n",
       "      <td>ffarm</td>\n",
       "      <td>farmbro</td>\n",
       "      <td>tw</td>\n",
       "      <td>nexus</td>\n",
       "      <td>8.0</td>\n",
       "      <td>2400</td>\n",
       "      <td>10</td>\n",
       "      <td>2023-06-28 09:00:00</td>\n",
       "      <td>2023-06-28 17:00:00</td>\n",
       "      <td>[]</td>\n",
       "      <td>{}</td>\n",
       "      <td>{}</td>\n",
       "      <td>{}</td>\n",
       "      <td>True</td>\n",
       "      <td>True</td>\n",
       "      <td>True</td>\n",
       "      <td>True</td>\n",
       "      <td>True</td>\n",
       "    </tr>\n",
       "    <tr>\n",
       "      <th>2</th>\n",
       "      <td>kchang</td>\n",
       "      <td>ken</td>\n",
       "      <td>tw</td>\n",
       "      <td>nexus</td>\n",
       "      <td>8.0</td>\n",
       "      <td>2400</td>\n",
       "      <td>10</td>\n",
       "      <td>2023-06-28 09:00:00</td>\n",
       "      <td>2023-06-28 17:00:00</td>\n",
       "      <td>[]</td>\n",
       "      <td>{}</td>\n",
       "      <td>{}</td>\n",
       "      <td>{}</td>\n",
       "      <td>True</td>\n",
       "      <td>True</td>\n",
       "      <td>True</td>\n",
       "      <td>True</td>\n",
       "      <td>True</td>\n",
       "    </tr>\n",
       "  </tbody>\n",
       "</table>\n",
       "</div>"
      ],
      "text/plain": [
       "  username      name locale   team  contract_hours  output  keep_deadlines  \\\n",
       "0    ksolo  ken solo     ks  nexus             8.0    2400              10   \n",
       "1    ffarm   farmbro     tw  nexus             8.0    2400              10   \n",
       "2   kchang       ken     tw  nexus             8.0    2400              10   \n",
       "\n",
       "           start_time            end_time plate client_exp expertise  \\\n",
       "0 2023-06-28 09:00:00 2023-06-28 17:00:00    []         {}        {}   \n",
       "1 2023-06-28 09:00:00 2023-06-28 17:00:00    []         {}        {}   \n",
       "2 2023-06-28 09:00:00 2023-06-28 17:00:00    []         {}        {}   \n",
       "\n",
       "  client_redflag  translation  review   lso  client_meeting  test_translation  \n",
       "0             {}         True    True  True            True              True  \n",
       "1             {}         True    True  True            True              True  \n",
       "2             {}         True    True  True            True              True  "
      ]
     },
     "execution_count": 25,
     "metadata": {},
     "output_type": "execute_result"
    }
   ],
   "source": [
    "df = pd.read_pickle('database/nexus/nexus_linguists.pkl')\n",
    "df"
   ]
  },
  {
   "cell_type": "code",
   "execution_count": null,
   "metadata": {},
   "outputs": [],
   "source": []
  }
 ],
 "metadata": {
  "kernelspec": {
   "display_name": "venv",
   "language": "python",
   "name": "python3"
  },
  "language_info": {
   "codemirror_mode": {
    "name": "ipython",
    "version": 3
   },
   "file_extension": ".py",
   "mimetype": "text/x-python",
   "name": "python",
   "nbconvert_exporter": "python",
   "pygments_lexer": "ipython3",
   "version": "3.11.1"
  },
  "orig_nbformat": 4
 },
 "nbformat": 4,
 "nbformat_minor": 2
}
