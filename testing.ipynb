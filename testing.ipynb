{
 "cells": [
  {
   "cell_type": "code",
   "execution_count": 1,
   "metadata": {},
   "outputs": [],
   "source": [
    "import pandas as pd\n",
    "import flow_functions as ff\n",
    "from datetime import datetime"
   ]
  },
  {
   "cell_type": "code",
   "execution_count": 3,
   "metadata": {},
   "outputs": [],
   "source": [
    "cookie = \"fashion\""
   ]
  },
  {
   "attachments": {},
   "cell_type": "markdown",
   "metadata": {},
   "source": [
    "### Create a linguist"
   ]
  },
  {
   "cell_type": "code",
   "execution_count": 3,
   "metadata": {},
   "outputs": [],
   "source": [
    "kensolo = ff.create_linguist(\"kensolo\", \"Ken Solo\", \"ks\", cookie)\n",
    "ff.create_workload_db(kensolo, cookie)\n",
    "ff.add_to_linguist_db(kensolo, cookie)"
   ]
  },
  {
   "attachments": {},
   "cell_type": "markdown",
   "metadata": {},
   "source": [
    "#### Change linguist attribute"
   ]
  },
  {
   "cell_type": "code",
   "execution_count": null,
   "metadata": {},
   "outputs": [],
   "source": [
    "ff.set_attribute(\"farm\", \"output\", 100000, cookie)"
   ]
  },
  {
   "attachments": {},
   "cell_type": "markdown",
   "metadata": {},
   "source": [
    "### Create a task"
   ]
  },
  {
   "cell_type": "code",
   "execution_count": 4,
   "metadata": {},
   "outputs": [],
   "source": [
    "task = ff.create_task(\"translation4\", \"tw\", \"translation\", datetime(2023, 7, 7), 2400, 2, cookie)\n",
    "ff.add_to_task_db(task, cookie)"
   ]
  },
  {
   "attachments": {},
   "cell_type": "markdown",
   "metadata": {},
   "source": [
    "### Assign a task"
   ]
  },
  {
   "cell_type": "code",
   "execution_count": 7,
   "metadata": {},
   "outputs": [
    {
     "name": "stdout",
     "output_type": "stream",
     "text": [
      "<<< Now Checking Availability >>>\n",
      "farm output: 2400\n",
      "farm finish the day at: 17:00:00\n",
      "Ratio for farm output against default: 1.0\n",
      "Required hours on default rating: 2\n",
      "farm required hours: 2.0\n",
      "Deadline is 2023-07-07\n",
      "farm currently have 8.0 hours of work on 2023-07-07\n",
      "farm still has 0.0 hours available on 2023-07-07\n",
      "2023-07-07 already fully occupied for farm\n",
      "Now checking 2023-07-06\n",
      "Deadline is 2023-07-07\n",
      "farm currently have 8.0 hours of work on 2023-07-06\n",
      "farm still has 0.0 hours available on 2023-07-06\n",
      "2023-07-06 already fully occupied for farm\n",
      "Now checking 2023-07-05\n",
      "Deadline is 2023-07-07\n",
      "farm currently have 1.0 hours of work on 2023-07-05\n",
      "farm still has 7.0 hours available on 2023-07-05\n",
      "2.0 hours of this task can be allocated to farm on 2023-07-05\n",
      "<<< Now Assigning Task >>>\n",
      "Last day the task must complete: 2023-07-05\n",
      "2023-07-05 found in DB, attempting to allocate 2.0 hours to 2023-07-05\n",
      "farm still has 7.0 hours of availability on 2023-07-05\n",
      "All remaining hours allocated to 2023-07-05\n",
      "New total workload for farm on 2023-07-05: 3.0\n"
     ]
    },
    {
     "data": {
      "text/plain": [
       "True"
      ]
     },
     "execution_count": 7,
     "metadata": {},
     "output_type": "execute_result"
    }
   ],
   "source": [
    "decision = ff.assign_task_to_linguist(\"farm\", \"translation4\", cookie)\n",
    "decision"
   ]
  },
  {
   "attachments": {},
   "cell_type": "markdown",
   "metadata": {},
   "source": [
    "### Datebase view"
   ]
  },
  {
   "cell_type": "code",
   "execution_count": 8,
   "metadata": {},
   "outputs": [],
   "source": [
    "linguists = pd.read_pickle(f'database/{cookie}/{cookie}_linguists.pkl')\n",
    "workload = pd.read_pickle(f'database/{cookie}/farm_workload.pkl')\n",
    "tasks = pd.read_pickle(f'database/{cookie}/{cookie}_tasks.pkl')"
   ]
  },
  {
   "cell_type": "code",
   "execution_count": 9,
   "metadata": {},
   "outputs": [
    {
     "data": {
      "text/plain": [
       "['translation1', 'translation2', 'translation3', 'translation4']"
      ]
     },
     "execution_count": 9,
     "metadata": {},
     "output_type": "execute_result"
    }
   ],
   "source": [
    "linguists.loc[linguists[\"username\"] == \"farm\", \"plate\"].values[0].split(\",\")"
   ]
  },
  {
   "cell_type": "code",
   "execution_count": 10,
   "metadata": {},
   "outputs": [
    {
     "data": {
      "text/html": [
       "<div>\n",
       "<style scoped>\n",
       "    .dataframe tbody tr th:only-of-type {\n",
       "        vertical-align: middle;\n",
       "    }\n",
       "\n",
       "    .dataframe tbody tr th {\n",
       "        vertical-align: top;\n",
       "    }\n",
       "\n",
       "    .dataframe thead th {\n",
       "        text-align: right;\n",
       "    }\n",
       "</style>\n",
       "<table border=\"1\" class=\"dataframe\">\n",
       "  <thead>\n",
       "    <tr style=\"text-align: right;\">\n",
       "      <th></th>\n",
       "      <th>username</th>\n",
       "      <th>name</th>\n",
       "      <th>locale</th>\n",
       "      <th>team</th>\n",
       "      <th>contract_hours</th>\n",
       "      <th>output</th>\n",
       "      <th>keep_deadlines</th>\n",
       "      <th>start_time</th>\n",
       "      <th>end_time</th>\n",
       "      <th>plate</th>\n",
       "      <th>client_exp</th>\n",
       "      <th>expertise</th>\n",
       "      <th>client_redflag</th>\n",
       "      <th>translation</th>\n",
       "      <th>review</th>\n",
       "      <th>lso</th>\n",
       "      <th>client_meeting</th>\n",
       "      <th>test_translation</th>\n",
       "    </tr>\n",
       "  </thead>\n",
       "  <tbody>\n",
       "    <tr>\n",
       "      <th>0</th>\n",
       "      <td>farm</td>\n",
       "      <td>farm bro</td>\n",
       "      <td>fb</td>\n",
       "      <td>fashion</td>\n",
       "      <td>8.0</td>\n",
       "      <td>2400</td>\n",
       "      <td>10</td>\n",
       "      <td>09:00:00</td>\n",
       "      <td>17:00:00</td>\n",
       "      <td>translation1,translation2,translation3,transla...</td>\n",
       "      <td></td>\n",
       "      <td></td>\n",
       "      <td></td>\n",
       "      <td>True</td>\n",
       "      <td>True</td>\n",
       "      <td>True</td>\n",
       "      <td>True</td>\n",
       "      <td>True</td>\n",
       "    </tr>\n",
       "  </tbody>\n",
       "</table>\n",
       "</div>"
      ],
      "text/plain": [
       "  username      name locale     team  contract_hours  output  keep_deadlines  \\\n",
       "0     farm  farm bro     fb  fashion             8.0    2400              10   \n",
       "\n",
       "  start_time  end_time                                              plate  \\\n",
       "0   09:00:00  17:00:00  translation1,translation2,translation3,transla...   \n",
       "\n",
       "  client_exp expertise client_redflag  translation  review   lso  \\\n",
       "0                                             True    True  True   \n",
       "\n",
       "   client_meeting  test_translation  \n",
       "0            True              True  "
      ]
     },
     "execution_count": 10,
     "metadata": {},
     "output_type": "execute_result"
    }
   ],
   "source": [
    "linguists"
   ]
  },
  {
   "cell_type": "code",
   "execution_count": 11,
   "metadata": {},
   "outputs": [
    {
     "data": {
      "text/html": [
       "<div>\n",
       "<style scoped>\n",
       "    .dataframe tbody tr th:only-of-type {\n",
       "        vertical-align: middle;\n",
       "    }\n",
       "\n",
       "    .dataframe tbody tr th {\n",
       "        vertical-align: top;\n",
       "    }\n",
       "\n",
       "    .dataframe thead th {\n",
       "        text-align: right;\n",
       "    }\n",
       "</style>\n",
       "<table border=\"1\" class=\"dataframe\">\n",
       "  <thead>\n",
       "    <tr style=\"text-align: right;\">\n",
       "      <th></th>\n",
       "      <th>username</th>\n",
       "      <th>contractual_availability</th>\n",
       "      <th>2023-07-06</th>\n",
       "      <th>2023-07-07</th>\n",
       "      <th>2023-07-05</th>\n",
       "    </tr>\n",
       "  </thead>\n",
       "  <tbody>\n",
       "    <tr>\n",
       "      <th>0</th>\n",
       "      <td>farm</td>\n",
       "      <td>8.0</td>\n",
       "      <td>8.0</td>\n",
       "      <td>8.0</td>\n",
       "      <td>3.0</td>\n",
       "    </tr>\n",
       "  </tbody>\n",
       "</table>\n",
       "</div>"
      ],
      "text/plain": [
       "  username  contractual_availability  2023-07-06  2023-07-07  2023-07-05\n",
       "0     farm                       8.0         8.0         8.0         3.0"
      ]
     },
     "execution_count": 11,
     "metadata": {},
     "output_type": "execute_result"
    }
   ],
   "source": [
    "workload"
   ]
  },
  {
   "cell_type": "code",
   "execution_count": 12,
   "metadata": {},
   "outputs": [
    {
     "data": {
      "text/html": [
       "<div>\n",
       "<style scoped>\n",
       "    .dataframe tbody tr th:only-of-type {\n",
       "        vertical-align: middle;\n",
       "    }\n",
       "\n",
       "    .dataframe tbody tr th {\n",
       "        vertical-align: top;\n",
       "    }\n",
       "\n",
       "    .dataframe thead th {\n",
       "        text-align: right;\n",
       "    }\n",
       "</style>\n",
       "<table border=\"1\" class=\"dataframe\">\n",
       "  <thead>\n",
       "    <tr style=\"text-align: right;\">\n",
       "      <th></th>\n",
       "      <th>name</th>\n",
       "      <th>locale</th>\n",
       "      <th>task_type</th>\n",
       "      <th>deadline</th>\n",
       "      <th>default_rate</th>\n",
       "      <th>required_hours</th>\n",
       "      <th>assignee_required_hours</th>\n",
       "      <th>team</th>\n",
       "      <th>assignee</th>\n",
       "      <th>status</th>\n",
       "      <th>completion_date</th>\n",
       "      <th>start_datetime</th>\n",
       "      <th>end_datetime</th>\n",
       "      <th>same_day_fit</th>\n",
       "      <th>2023-07-06</th>\n",
       "      <th>2023-07-07</th>\n",
       "      <th>2023-07-05</th>\n",
       "    </tr>\n",
       "  </thead>\n",
       "  <tbody>\n",
       "    <tr>\n",
       "      <th>0</th>\n",
       "      <td>translation1</td>\n",
       "      <td>tw</td>\n",
       "      <td>translation</td>\n",
       "      <td>2023-07-06 11:00:00</td>\n",
       "      <td>2400</td>\n",
       "      <td>8</td>\n",
       "      <td>8.0</td>\n",
       "      <td>fashion</td>\n",
       "      <td>farm</td>\n",
       "      <td>Assigned</td>\n",
       "      <td>None</td>\n",
       "      <td>2023-07-06 09:00:00</td>\n",
       "      <td>2023-07-06 17:00:00</td>\n",
       "      <td>False</td>\n",
       "      <td>8.0</td>\n",
       "      <td>NaN</td>\n",
       "      <td>NaN</td>\n",
       "    </tr>\n",
       "    <tr>\n",
       "      <th>1</th>\n",
       "      <td>translation2</td>\n",
       "      <td>tw</td>\n",
       "      <td>translation</td>\n",
       "      <td>2023-07-07 00:00:00</td>\n",
       "      <td>2400</td>\n",
       "      <td>2</td>\n",
       "      <td>2.0</td>\n",
       "      <td>fashion</td>\n",
       "      <td>farm</td>\n",
       "      <td>Assigned</td>\n",
       "      <td>None</td>\n",
       "      <td>2023-07-07 15:00:00</td>\n",
       "      <td>2023-07-07 17:00:00</td>\n",
       "      <td>False</td>\n",
       "      <td>NaN</td>\n",
       "      <td>2.0</td>\n",
       "      <td>NaN</td>\n",
       "    </tr>\n",
       "    <tr>\n",
       "      <th>2</th>\n",
       "      <td>translation3</td>\n",
       "      <td>tw</td>\n",
       "      <td>translation</td>\n",
       "      <td>2023-07-07 00:00:00</td>\n",
       "      <td>2400</td>\n",
       "      <td>7</td>\n",
       "      <td>7.0</td>\n",
       "      <td>fashion</td>\n",
       "      <td>farm</td>\n",
       "      <td>Assigned</td>\n",
       "      <td>None</td>\n",
       "      <td>2023-07-05 16:00:00</td>\n",
       "      <td>2023-07-07 15:00:00</td>\n",
       "      <td>False</td>\n",
       "      <td>0.0</td>\n",
       "      <td>6.0</td>\n",
       "      <td>1.0</td>\n",
       "    </tr>\n",
       "    <tr>\n",
       "      <th>3</th>\n",
       "      <td>translation4</td>\n",
       "      <td>tw</td>\n",
       "      <td>translation</td>\n",
       "      <td>2023-07-07 00:00:00</td>\n",
       "      <td>2400</td>\n",
       "      <td>2</td>\n",
       "      <td>2.0</td>\n",
       "      <td>fashion</td>\n",
       "      <td>farm</td>\n",
       "      <td>Assigned</td>\n",
       "      <td>None</td>\n",
       "      <td>2023-07-05 14:00:00</td>\n",
       "      <td>2023-07-05 16:00:00</td>\n",
       "      <td>False</td>\n",
       "      <td>NaN</td>\n",
       "      <td>NaN</td>\n",
       "      <td>2.0</td>\n",
       "    </tr>\n",
       "  </tbody>\n",
       "</table>\n",
       "</div>"
      ],
      "text/plain": [
       "           name locale    task_type            deadline  default_rate  \\\n",
       "0  translation1     tw  translation 2023-07-06 11:00:00          2400   \n",
       "1  translation2     tw  translation 2023-07-07 00:00:00          2400   \n",
       "2  translation3     tw  translation 2023-07-07 00:00:00          2400   \n",
       "3  translation4     tw  translation 2023-07-07 00:00:00          2400   \n",
       "\n",
       "   required_hours assignee_required_hours     team assignee    status  \\\n",
       "0               8                     8.0  fashion     farm  Assigned   \n",
       "1               2                     2.0  fashion     farm  Assigned   \n",
       "2               7                     7.0  fashion     farm  Assigned   \n",
       "3               2                     2.0  fashion     farm  Assigned   \n",
       "\n",
       "  completion_date       start_datetime         end_datetime same_day_fit  \\\n",
       "0            None  2023-07-06 09:00:00  2023-07-06 17:00:00        False   \n",
       "1            None  2023-07-07 15:00:00  2023-07-07 17:00:00        False   \n",
       "2            None  2023-07-05 16:00:00  2023-07-07 15:00:00        False   \n",
       "3            None  2023-07-05 14:00:00  2023-07-05 16:00:00        False   \n",
       "\n",
       "   2023-07-06  2023-07-07  2023-07-05  \n",
       "0         8.0         NaN         NaN  \n",
       "1         NaN         2.0         NaN  \n",
       "2         0.0         6.0         1.0  \n",
       "3         NaN         NaN         2.0  "
      ]
     },
     "execution_count": 12,
     "metadata": {},
     "output_type": "execute_result"
    }
   ],
   "source": [
    "tasks"
   ]
  },
  {
   "cell_type": "code",
   "execution_count": 34,
   "metadata": {},
   "outputs": [
    {
     "data": {
      "text/plain": [
       "0.0"
      ]
     },
     "execution_count": 34,
     "metadata": {},
     "output_type": "execute_result"
    }
   ],
   "source": [
    "tasks[\"2023-07-03\"].sum()"
   ]
  },
  {
   "cell_type": "code",
   "execution_count": null,
   "metadata": {},
   "outputs": [],
   "source": []
  },
  {
   "cell_type": "code",
   "execution_count": null,
   "metadata": {},
   "outputs": [],
   "source": []
  },
  {
   "cell_type": "code",
   "execution_count": null,
   "metadata": {},
   "outputs": [],
   "source": []
  },
  {
   "cell_type": "code",
   "execution_count": 47,
   "metadata": {},
   "outputs": [],
   "source": [
    "df = pd.DataFrame({\n",
    "    'name': ['JohnDoe', 'Alice', 'Bob', 'JohnDoe'],\n",
    "    'age': [25, 24, 22, 25],\n",
    "    'assignee': ['a', 'b', 'a', 'a'],\n",
    "    'city': ['london', 'liverpool', 'london', 'liverpool']\n",
    "})"
   ]
  },
  {
   "cell_type": "code",
   "execution_count": 48,
   "metadata": {},
   "outputs": [
    {
     "name": "stdout",
     "output_type": "stream",
     "text": [
      "47\n"
     ]
    }
   ],
   "source": [
    "# Define conditions for 'assignee' and 'city'\n",
    "condition = (df['assignee'] == 'a') & (df['city'] == 'london')\n",
    "\n",
    "# Calculate the sum of 'age' for those rows satisfying the condition\n",
    "sum_age = df[condition]['age'].sum()\n",
    "\n",
    "print(sum_age)"
   ]
  },
  {
   "cell_type": "code",
   "execution_count": null,
   "metadata": {},
   "outputs": [],
   "source": []
  }
 ],
 "metadata": {
  "kernelspec": {
   "display_name": "venv",
   "language": "python",
   "name": "python3"
  },
  "language_info": {
   "codemirror_mode": {
    "name": "ipython",
    "version": 3
   },
   "file_extension": ".py",
   "mimetype": "text/x-python",
   "name": "python",
   "nbconvert_exporter": "python",
   "pygments_lexer": "ipython3",
   "version": "3.11.1"
  },
  "orig_nbformat": 4
 },
 "nbformat": 4,
 "nbformat_minor": 2
}
