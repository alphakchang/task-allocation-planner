{
 "cells": [
  {
   "cell_type": "code",
   "execution_count": 2,
   "metadata": {},
   "outputs": [],
   "source": [
    "from linguist import Linguist\n",
    "import pandas as pd"
   ]
  },
  {
   "cell_type": "code",
   "execution_count": null,
   "metadata": {},
   "outputs": [],
   "source": [
    "ken.get_attribute(\"team\")"
   ]
  },
  {
   "cell_type": "code",
   "execution_count": null,
   "metadata": {},
   "outputs": [],
   "source": [
    "data = vars(ken)"
   ]
  },
  {
   "cell_type": "code",
   "execution_count": null,
   "metadata": {},
   "outputs": [],
   "source": [
    "df = pd.DataFrame([data])"
   ]
  },
  {
   "cell_type": "code",
   "execution_count": null,
   "metadata": {},
   "outputs": [],
   "source": [
    "df.head()"
   ]
  },
  {
   "cell_type": "code",
   "execution_count": null,
   "metadata": {},
   "outputs": [],
   "source": [
    "dff = pd.DataFrame({'column_name': [1, 2, 3], 'another_column': ['a', 'b', 'c']})\n",
    "dff"
   ]
  },
  {
   "cell_type": "code",
   "execution_count": null,
   "metadata": {},
   "outputs": [],
   "source": [
    "dff.loc[dff[\"another_column\"] == \"b\", 'column_name'] = 'new_value'\n",
    "dff"
   ]
  },
  {
   "cell_type": "code",
   "execution_count": null,
   "metadata": {},
   "outputs": [],
   "source": [
    "extracted = dff.loc[0, 'column_name']\n",
    "extracted"
   ]
  },
  {
   "cell_type": "code",
   "execution_count": null,
   "metadata": {},
   "outputs": [],
   "source": [
    "type(extracted)"
   ]
  },
  {
   "cell_type": "code",
   "execution_count": null,
   "metadata": {},
   "outputs": [],
   "source": [
    "plate_plate = extracted.split('_')\n",
    "plate_plate"
   ]
  },
  {
   "cell_type": "code",
   "execution_count": null,
   "metadata": {},
   "outputs": [],
   "source": [
    "type(plate_plate)"
   ]
  },
  {
   "cell_type": "code",
   "execution_count": null,
   "metadata": {},
   "outputs": [],
   "source": [
    "string_sample = ','.join(plate_plate)\n",
    "string_sample"
   ]
  },
  {
   "cell_type": "code",
   "execution_count": null,
   "metadata": {},
   "outputs": [],
   "source": [
    "dff.loc[0, 'column_name'] = string_sample\n",
    "dff"
   ]
  },
  {
   "cell_type": "code",
   "execution_count": null,
   "metadata": {},
   "outputs": [],
   "source": [
    "df.to_pickle('linguist.pkl')"
   ]
  },
  {
   "cell_type": "code",
   "execution_count": null,
   "metadata": {},
   "outputs": [],
   "source": [
    "df = pd.read_pickle('linguist.pkl')"
   ]
  },
  {
   "cell_type": "code",
   "execution_count": null,
   "metadata": {},
   "outputs": [],
   "source": [
    "df"
   ]
  },
  {
   "cell_type": "code",
   "execution_count": null,
   "metadata": {},
   "outputs": [],
   "source": [
    "farm = Linguist(\"farm\", \"NL\", \"Nexus\")"
   ]
  },
  {
   "cell_type": "code",
   "execution_count": null,
   "metadata": {},
   "outputs": [],
   "source": [
    "data = vars(farm)"
   ]
  },
  {
   "cell_type": "code",
   "execution_count": null,
   "metadata": {},
   "outputs": [],
   "source": [
    "data"
   ]
  },
  {
   "cell_type": "code",
   "execution_count": null,
   "metadata": {},
   "outputs": [],
   "source": [
    "dff = pd.DataFrame([data])\n",
    "dff"
   ]
  },
  {
   "cell_type": "code",
   "execution_count": null,
   "metadata": {},
   "outputs": [],
   "source": [
    "df"
   ]
  },
  {
   "cell_type": "code",
   "execution_count": null,
   "metadata": {},
   "outputs": [],
   "source": [
    "dff.columns"
   ]
  },
  {
   "cell_type": "code",
   "execution_count": null,
   "metadata": {},
   "outputs": [],
   "source": [
    "df.columns"
   ]
  },
  {
   "cell_type": "code",
   "execution_count": null,
   "metadata": {},
   "outputs": [],
   "source": [
    "print(df.columns == dff.columns)"
   ]
  },
  {
   "cell_type": "code",
   "execution_count": null,
   "metadata": {},
   "outputs": [],
   "source": [
    "df.loc[len(df)] = dff.iloc[0, :]"
   ]
  },
  {
   "cell_type": "code",
   "execution_count": null,
   "metadata": {},
   "outputs": [],
   "source": [
    "df"
   ]
  },
  {
   "cell_type": "code",
   "execution_count": null,
   "metadata": {},
   "outputs": [],
   "source": [
    "df.to_pickle('linguist.pkl')"
   ]
  },
  {
   "cell_type": "code",
   "execution_count": null,
   "metadata": {},
   "outputs": [],
   "source": [
    "df = pd.read_pickle('linguist.pkl')\n",
    "df"
   ]
  },
  {
   "cell_type": "code",
   "execution_count": null,
   "metadata": {},
   "outputs": [],
   "source": [
    "df.loc[df[\"name\"] ==\"farm\", \"keep_deadlines\"] = df.loc[df[\"name\"] ==\"farm\", \"keep_deadlines\"] - 1"
   ]
  },
  {
   "cell_type": "code",
   "execution_count": null,
   "metadata": {},
   "outputs": [],
   "source": [
    "df"
   ]
  },
  {
   "cell_type": "code",
   "execution_count": 28,
   "metadata": {},
   "outputs": [
    {
     "data": {
      "text/html": [
       "<div>\n",
       "<style scoped>\n",
       "    .dataframe tbody tr th:only-of-type {\n",
       "        vertical-align: middle;\n",
       "    }\n",
       "\n",
       "    .dataframe tbody tr th {\n",
       "        vertical-align: top;\n",
       "    }\n",
       "\n",
       "    .dataframe thead th {\n",
       "        text-align: right;\n",
       "    }\n",
       "</style>\n",
       "<table border=\"1\" class=\"dataframe\">\n",
       "  <thead>\n",
       "    <tr style=\"text-align: right;\">\n",
       "      <th></th>\n",
       "      <th>username</th>\n",
       "      <th>name</th>\n",
       "      <th>locale</th>\n",
       "      <th>team</th>\n",
       "      <th>contract_hours</th>\n",
       "      <th>output</th>\n",
       "      <th>keep_deadlines</th>\n",
       "      <th>start_time</th>\n",
       "      <th>end_time</th>\n",
       "      <th>plate</th>\n",
       "      <th>client_exp</th>\n",
       "      <th>expertise</th>\n",
       "      <th>client_redflag</th>\n",
       "      <th>translation</th>\n",
       "      <th>review</th>\n",
       "      <th>lso</th>\n",
       "      <th>client_meeting</th>\n",
       "      <th>test_translation</th>\n",
       "    </tr>\n",
       "  </thead>\n",
       "  <tbody>\n",
       "    <tr>\n",
       "      <th>0</th>\n",
       "      <td>farm</td>\n",
       "      <td>farm bro</td>\n",
       "      <td>fb</td>\n",
       "      <td>fashion</td>\n",
       "      <td>8.0</td>\n",
       "      <td>2400</td>\n",
       "      <td>10</td>\n",
       "      <td>2023-06-30 09:00:00</td>\n",
       "      <td>2023-06-30 17:00:00</td>\n",
       "      <td></td>\n",
       "      <td></td>\n",
       "      <td></td>\n",
       "      <td></td>\n",
       "      <td>True</td>\n",
       "      <td>True</td>\n",
       "      <td>True</td>\n",
       "      <td>True</td>\n",
       "      <td>True</td>\n",
       "    </tr>\n",
       "    <tr>\n",
       "      <th>1</th>\n",
       "      <td>kensolo</td>\n",
       "      <td>farm bro</td>\n",
       "      <td>fb</td>\n",
       "      <td>fashion</td>\n",
       "      <td>8.0</td>\n",
       "      <td>2400</td>\n",
       "      <td>10</td>\n",
       "      <td>2023-06-30 09:00:00</td>\n",
       "      <td>2023-06-30 17:00:00</td>\n",
       "      <td>lso,lso,review</td>\n",
       "      <td></td>\n",
       "      <td></td>\n",
       "      <td></td>\n",
       "      <td>True</td>\n",
       "      <td>True</td>\n",
       "      <td>True</td>\n",
       "      <td>True</td>\n",
       "      <td>True</td>\n",
       "    </tr>\n",
       "    <tr>\n",
       "      <th>2</th>\n",
       "      <td>kensolo</td>\n",
       "      <td>farm bro</td>\n",
       "      <td>fb</td>\n",
       "      <td>fashion</td>\n",
       "      <td>8.0</td>\n",
       "      <td>2400</td>\n",
       "      <td>10</td>\n",
       "      <td>2023-06-30 09:00:00</td>\n",
       "      <td>2023-06-30 17:00:00</td>\n",
       "      <td>lso,lso,review</td>\n",
       "      <td></td>\n",
       "      <td></td>\n",
       "      <td></td>\n",
       "      <td>True</td>\n",
       "      <td>True</td>\n",
       "      <td>True</td>\n",
       "      <td>True</td>\n",
       "      <td>True</td>\n",
       "    </tr>\n",
       "  </tbody>\n",
       "</table>\n",
       "</div>"
      ],
      "text/plain": [
       "  username      name locale     team  contract_hours  output  keep_deadlines  \\\n",
       "0     farm  farm bro     fb  fashion             8.0    2400              10   \n",
       "1  kensolo  farm bro     fb  fashion             8.0    2400              10   \n",
       "2  kensolo  farm bro     fb  fashion             8.0    2400              10   \n",
       "\n",
       "           start_time            end_time           plate client_exp  \\\n",
       "0 2023-06-30 09:00:00 2023-06-30 17:00:00                              \n",
       "1 2023-06-30 09:00:00 2023-06-30 17:00:00  lso,lso,review              \n",
       "2 2023-06-30 09:00:00 2023-06-30 17:00:00  lso,lso,review              \n",
       "\n",
       "  expertise client_redflag  translation  review   lso  client_meeting  \\\n",
       "0                                  True    True  True            True   \n",
       "1                                  True    True  True            True   \n",
       "2                                  True    True  True            True   \n",
       "\n",
       "   test_translation  \n",
       "0              True  \n",
       "1              True  \n",
       "2              True  "
      ]
     },
     "execution_count": 28,
     "metadata": {},
     "output_type": "execute_result"
    }
   ],
   "source": [
    "df = pd.read_pickle('database/fashion/fashion_linguists.pkl')\n",
    "df"
   ]
  },
  {
   "cell_type": "code",
   "execution_count": 29,
   "metadata": {},
   "outputs": [
    {
     "data": {
      "text/plain": [
       "numpy.datetime64('2023-06-30T17:00:00.000000000')"
      ]
     },
     "execution_count": 29,
     "metadata": {},
     "output_type": "execute_result"
    }
   ],
   "source": [
    "end_time = df.loc[df[\"username\"] == \"kensolo\", \"end_time\"].values[0]\n",
    "end_time"
   ]
  },
  {
   "cell_type": "code",
   "execution_count": 39,
   "metadata": {},
   "outputs": [
    {
     "data": {
      "text/plain": [
       "datetime.datetime(2023, 6, 30, 17, 0)"
      ]
     },
     "execution_count": 39,
     "metadata": {},
     "output_type": "execute_result"
    }
   ],
   "source": [
    "end_time_dt = pd.Timestamp(end_time).to_pydatetime()\n",
    "# end_time_dt = end_time_pd.to_pydatetime()\n",
    "end_time_dt"
   ]
  },
  {
   "cell_type": "code",
   "execution_count": 38,
   "metadata": {},
   "outputs": [
    {
     "data": {
      "text/plain": [
       "datetime.datetime(2023, 6, 30, 22, 51, 2, 480349)"
      ]
     },
     "execution_count": 38,
     "metadata": {},
     "output_type": "execute_result"
    }
   ],
   "source": [
    "now"
   ]
  },
  {
   "cell_type": "code",
   "execution_count": 40,
   "metadata": {},
   "outputs": [
    {
     "name": "stdout",
     "output_type": "stream",
     "text": [
      "5.850688985833334\n"
     ]
    }
   ],
   "source": [
    "print((now - end_time_dt).total_seconds() / 3600)"
   ]
  },
  {
   "cell_type": "code",
   "execution_count": 34,
   "metadata": {},
   "outputs": [
    {
     "data": {
      "text/html": [
       "<div>\n",
       "<style scoped>\n",
       "    .dataframe tbody tr th:only-of-type {\n",
       "        vertical-align: middle;\n",
       "    }\n",
       "\n",
       "    .dataframe tbody tr th {\n",
       "        vertical-align: top;\n",
       "    }\n",
       "\n",
       "    .dataframe thead th {\n",
       "        text-align: right;\n",
       "    }\n",
       "</style>\n",
       "<table border=\"1\" class=\"dataframe\">\n",
       "  <thead>\n",
       "    <tr style=\"text-align: right;\">\n",
       "      <th></th>\n",
       "      <th>username</th>\n",
       "      <th>contractual_availability</th>\n",
       "    </tr>\n",
       "  </thead>\n",
       "  <tbody>\n",
       "    <tr>\n",
       "      <th>0</th>\n",
       "      <td>kensolo</td>\n",
       "      <td>8.0</td>\n",
       "    </tr>\n",
       "  </tbody>\n",
       "</table>\n",
       "</div>"
      ],
      "text/plain": [
       "  username  contractual_availability\n",
       "0  kensolo                       8.0"
      ]
     },
     "execution_count": 34,
     "metadata": {},
     "output_type": "execute_result"
    }
   ],
   "source": [
    "df = pd.read_pickle('database/fashion/kensolo_availability.pkl')\n",
    "df"
   ]
  },
  {
   "cell_type": "code",
   "execution_count": 3,
   "metadata": {},
   "outputs": [
    {
     "data": {
      "text/html": [
       "<div>\n",
       "<style scoped>\n",
       "    .dataframe tbody tr th:only-of-type {\n",
       "        vertical-align: middle;\n",
       "    }\n",
       "\n",
       "    .dataframe tbody tr th {\n",
       "        vertical-align: top;\n",
       "    }\n",
       "\n",
       "    .dataframe thead th {\n",
       "        text-align: right;\n",
       "    }\n",
       "</style>\n",
       "<table border=\"1\" class=\"dataframe\">\n",
       "  <thead>\n",
       "    <tr style=\"text-align: right;\">\n",
       "      <th></th>\n",
       "      <th>name</th>\n",
       "      <th>locale</th>\n",
       "      <th>task_type</th>\n",
       "      <th>deadline</th>\n",
       "      <th>default_rate</th>\n",
       "      <th>required_hours</th>\n",
       "      <th>team</th>\n",
       "      <th>assignee</th>\n",
       "    </tr>\n",
       "  </thead>\n",
       "  <tbody>\n",
       "    <tr>\n",
       "      <th>0</th>\n",
       "      <td>review</td>\n",
       "      <td>tw</td>\n",
       "      <td>review</td>\n",
       "      <td>2023-06-30 17:00:00</td>\n",
       "      <td>2400</td>\n",
       "      <td>1.5</td>\n",
       "      <td>fashion</td>\n",
       "      <td>kensolo</td>\n",
       "    </tr>\n",
       "  </tbody>\n",
       "</table>\n",
       "</div>"
      ],
      "text/plain": [
       "     name locale task_type            deadline default_rate required_hours  \\\n",
       "0  review     tw    review 2023-06-30 17:00:00         2400            1.5   \n",
       "\n",
       "      team assignee  \n",
       "0  fashion  kensolo  "
      ]
     },
     "execution_count": 3,
     "metadata": {},
     "output_type": "execute_result"
    }
   ],
   "source": [
    "df = pd.read_pickle('database/fashion/fashion_tasks.pkl')\n",
    "df"
   ]
  },
  {
   "cell_type": "code",
   "execution_count": 9,
   "metadata": {},
   "outputs": [
    {
     "data": {
      "text/plain": [
       "numpy.datetime64('2023-06-30T17:00:00.000000000')"
      ]
     },
     "execution_count": 9,
     "metadata": {},
     "output_type": "execute_result"
    }
   ],
   "source": [
    "deadline = df.loc[df[\"name\"] == \"review\", \"deadline\"].values[0]\n",
    "deadline"
   ]
  },
  {
   "cell_type": "code",
   "execution_count": 12,
   "metadata": {},
   "outputs": [],
   "source": [
    "from datetime import datetime\n",
    "import numpy as np"
   ]
  },
  {
   "cell_type": "code",
   "execution_count": 14,
   "metadata": {},
   "outputs": [
    {
     "data": {
      "text/plain": [
       "'2023-06-30'"
      ]
     },
     "execution_count": 14,
     "metadata": {},
     "output_type": "execute_result"
    }
   ],
   "source": [
    "extracted_date = np.datetime64(deadline, 'D').astype(str)\n",
    "extracted_date"
   ]
  },
  {
   "cell_type": "code",
   "execution_count": 15,
   "metadata": {},
   "outputs": [
    {
     "data": {
      "text/plain": [
       "numpy.str_"
      ]
     },
     "execution_count": 15,
     "metadata": {},
     "output_type": "execute_result"
    }
   ],
   "source": [
    "type(extracted_date)"
   ]
  },
  {
   "cell_type": "code",
   "execution_count": 17,
   "metadata": {},
   "outputs": [
    {
     "data": {
      "text/plain": [
       "'test'"
      ]
     },
     "execution_count": 17,
     "metadata": {},
     "output_type": "execute_result"
    }
   ],
   "source": [
    "test = \"test\"\n",
    "test"
   ]
  },
  {
   "cell_type": "code",
   "execution_count": 18,
   "metadata": {},
   "outputs": [
    {
     "data": {
      "text/plain": [
       "str"
      ]
     },
     "execution_count": 18,
     "metadata": {},
     "output_type": "execute_result"
    }
   ],
   "source": [
    "type(test)"
   ]
  },
  {
   "cell_type": "code",
   "execution_count": 19,
   "metadata": {},
   "outputs": [],
   "source": [
    "now = datetime.now()"
   ]
  },
  {
   "cell_type": "code",
   "execution_count": 25,
   "metadata": {},
   "outputs": [
    {
     "data": {
      "text/plain": [
       "'2023-06-30'"
      ]
     },
     "execution_count": 25,
     "metadata": {},
     "output_type": "execute_result"
    }
   ],
   "source": [
    "today_date = datetime.now().strftime('%Y-%m-%d')\n",
    "today_date"
   ]
  },
  {
   "cell_type": "code",
   "execution_count": 26,
   "metadata": {},
   "outputs": [
    {
     "data": {
      "text/plain": [
       "True"
      ]
     },
     "execution_count": 26,
     "metadata": {},
     "output_type": "execute_result"
    }
   ],
   "source": [
    "today_date == extracted_date"
   ]
  },
  {
   "cell_type": "code",
   "execution_count": 27,
   "metadata": {},
   "outputs": [
    {
     "data": {
      "text/plain": [
       "(str, numpy.str_)"
      ]
     },
     "execution_count": 27,
     "metadata": {},
     "output_type": "execute_result"
    }
   ],
   "source": [
    "type(today_date), type(extracted_date)"
   ]
  },
  {
   "cell_type": "code",
   "execution_count": 47,
   "metadata": {},
   "outputs": [],
   "source": [
    "df = pd.DataFrame({\n",
    "    'name': ['JohnDoe', 'Alice', 'Bob', 'JohnDoe'],\n",
    "    'age': [25, 24, 22, 25],\n",
    "    'assignee': ['a', 'b', 'a', 'a'],\n",
    "    'city': ['london', 'liverpool', 'london', 'liverpool']\n",
    "})"
   ]
  },
  {
   "cell_type": "code",
   "execution_count": 48,
   "metadata": {},
   "outputs": [
    {
     "name": "stdout",
     "output_type": "stream",
     "text": [
      "47\n"
     ]
    }
   ],
   "source": [
    "# Define conditions for 'assignee' and 'city'\n",
    "condition = (df['assignee'] == 'a') & (df['city'] == 'london')\n",
    "\n",
    "# Calculate the sum of 'age' for those rows satisfying the condition\n",
    "sum_age = df[condition]['age'].sum()\n",
    "\n",
    "print(sum_age)"
   ]
  },
  {
   "cell_type": "code",
   "execution_count": 68,
   "metadata": {},
   "outputs": [
    {
     "data": {
      "text/html": [
       "<div>\n",
       "<style scoped>\n",
       "    .dataframe tbody tr th:only-of-type {\n",
       "        vertical-align: middle;\n",
       "    }\n",
       "\n",
       "    .dataframe tbody tr th {\n",
       "        vertical-align: top;\n",
       "    }\n",
       "\n",
       "    .dataframe thead th {\n",
       "        text-align: right;\n",
       "    }\n",
       "</style>\n",
       "<table border=\"1\" class=\"dataframe\">\n",
       "  <thead>\n",
       "    <tr style=\"text-align: right;\">\n",
       "      <th></th>\n",
       "      <th>name</th>\n",
       "      <th>locale</th>\n",
       "      <th>task_type</th>\n",
       "      <th>deadline</th>\n",
       "      <th>default_rate</th>\n",
       "      <th>required_hours</th>\n",
       "      <th>assignee_required_hours</th>\n",
       "      <th>team</th>\n",
       "      <th>assignee</th>\n",
       "      <th>status</th>\n",
       "      <th>completion_date</th>\n",
       "      <th>start_datetime</th>\n",
       "      <th>end_datetime</th>\n",
       "    </tr>\n",
       "  </thead>\n",
       "  <tbody>\n",
       "    <tr>\n",
       "      <th>0</th>\n",
       "      <td>review</td>\n",
       "      <td>tw</td>\n",
       "      <td>review</td>\n",
       "      <td>2023-06-30 17:00:00</td>\n",
       "      <td>2400</td>\n",
       "      <td>1.5</td>\n",
       "      <td>None</td>\n",
       "      <td>fashion</td>\n",
       "      <td>None</td>\n",
       "      <td>Open</td>\n",
       "      <td>None</td>\n",
       "      <td>None</td>\n",
       "      <td>None</td>\n",
       "    </tr>\n",
       "    <tr>\n",
       "      <th>1</th>\n",
       "      <td>review2</td>\n",
       "      <td>tw</td>\n",
       "      <td>review</td>\n",
       "      <td>2023-07-01 17:00:00</td>\n",
       "      <td>2400</td>\n",
       "      <td>2.0</td>\n",
       "      <td>None</td>\n",
       "      <td>fashion</td>\n",
       "      <td>None</td>\n",
       "      <td>Open</td>\n",
       "      <td>None</td>\n",
       "      <td>None</td>\n",
       "      <td>None</td>\n",
       "    </tr>\n",
       "  </tbody>\n",
       "</table>\n",
       "</div>"
      ],
      "text/plain": [
       "      name locale task_type            deadline  default_rate  required_hours  \\\n",
       "0   review     tw    review 2023-06-30 17:00:00          2400             1.5   \n",
       "1  review2     tw    review 2023-07-01 17:00:00          2400             2.0   \n",
       "\n",
       "  assignee_required_hours     team assignee status completion_date  \\\n",
       "0                    None  fashion     None   Open            None   \n",
       "1                    None  fashion     None   Open            None   \n",
       "\n",
       "  start_datetime end_datetime  \n",
       "0           None         None  \n",
       "1           None         None  "
      ]
     },
     "execution_count": 68,
     "metadata": {},
     "output_type": "execute_result"
    }
   ],
   "source": [
    "tasks = pd.read_pickle('database/fashion/fashion_tasks.pkl')\n",
    "tasks"
   ]
  },
  {
   "cell_type": "code",
   "execution_count": 64,
   "metadata": {},
   "outputs": [],
   "source": [
    "tasks['deadline'] = pd.to_datetime(tasks['deadline'])\n",
    "today = datetime.now().strftime('%Y-%m-%d')\n",
    "deadline_dates = tasks['deadline'].dt.date.astype(str)\n",
    "condition = (deadline_dates == today) & (tasks[\"assignee\"] == \"kensolo\")\n",
    "sum_hrs = tasks[condition][\"required_hours\"].sum()"
   ]
  },
  {
   "cell_type": "code",
   "execution_count": 65,
   "metadata": {},
   "outputs": [
    {
     "data": {
      "text/plain": [
       "2.0"
      ]
     },
     "execution_count": 65,
     "metadata": {},
     "output_type": "execute_result"
    }
   ],
   "source": [
    "sum_hrs"
   ]
  },
  {
   "cell_type": "code",
   "execution_count": 66,
   "metadata": {},
   "outputs": [
    {
     "data": {
      "text/html": [
       "<div>\n",
       "<style scoped>\n",
       "    .dataframe tbody tr th:only-of-type {\n",
       "        vertical-align: middle;\n",
       "    }\n",
       "\n",
       "    .dataframe tbody tr th {\n",
       "        vertical-align: top;\n",
       "    }\n",
       "\n",
       "    .dataframe thead th {\n",
       "        text-align: right;\n",
       "    }\n",
       "</style>\n",
       "<table border=\"1\" class=\"dataframe\">\n",
       "  <thead>\n",
       "    <tr style=\"text-align: right;\">\n",
       "      <th></th>\n",
       "      <th>name</th>\n",
       "      <th>locale</th>\n",
       "      <th>task_type</th>\n",
       "      <th>deadline</th>\n",
       "      <th>default_rate</th>\n",
       "      <th>required_hours</th>\n",
       "      <th>assignee_required_hours</th>\n",
       "      <th>team</th>\n",
       "      <th>assignee</th>\n",
       "      <th>status</th>\n",
       "      <th>completion_date</th>\n",
       "      <th>start_datetime</th>\n",
       "      <th>end_datetime</th>\n",
       "    </tr>\n",
       "  </thead>\n",
       "  <tbody>\n",
       "    <tr>\n",
       "      <th>0</th>\n",
       "      <td>review</td>\n",
       "      <td>tw</td>\n",
       "      <td>review</td>\n",
       "      <td>2023-06-30 17:00:00</td>\n",
       "      <td>2400</td>\n",
       "      <td>1.5</td>\n",
       "      <td>None</td>\n",
       "      <td>fashion</td>\n",
       "      <td>None</td>\n",
       "      <td>Open</td>\n",
       "      <td>None</td>\n",
       "      <td>None</td>\n",
       "      <td>None</td>\n",
       "    </tr>\n",
       "    <tr>\n",
       "      <th>1</th>\n",
       "      <td>review2</td>\n",
       "      <td>tw</td>\n",
       "      <td>review</td>\n",
       "      <td>2023-07-01 17:00:00</td>\n",
       "      <td>2400</td>\n",
       "      <td>2.0</td>\n",
       "      <td>None</td>\n",
       "      <td>fashion</td>\n",
       "      <td>None</td>\n",
       "      <td>Open</td>\n",
       "      <td>None</td>\n",
       "      <td>None</td>\n",
       "      <td>None</td>\n",
       "    </tr>\n",
       "  </tbody>\n",
       "</table>\n",
       "</div>"
      ],
      "text/plain": [
       "      name locale task_type            deadline  default_rate  required_hours  \\\n",
       "0   review     tw    review 2023-06-30 17:00:00          2400             1.5   \n",
       "1  review2     tw    review 2023-07-01 17:00:00          2400             2.0   \n",
       "\n",
       "  assignee_required_hours     team assignee status completion_date  \\\n",
       "0                    None  fashion     None   Open            None   \n",
       "1                    None  fashion     None   Open            None   \n",
       "\n",
       "  start_datetime end_datetime  \n",
       "0           None         None  \n",
       "1           None         None  "
      ]
     },
     "execution_count": 66,
     "metadata": {},
     "output_type": "execute_result"
    }
   ],
   "source": [
    "tasks"
   ]
  },
  {
   "cell_type": "code",
   "execution_count": 67,
   "metadata": {},
   "outputs": [
    {
     "data": {
      "text/plain": [
       "dtype('<M8[ns]')"
      ]
     },
     "execution_count": 67,
     "metadata": {},
     "output_type": "execute_result"
    }
   ],
   "source": [
    "tasks['deadline'].dtype"
   ]
  },
  {
   "cell_type": "code",
   "execution_count": null,
   "metadata": {},
   "outputs": [],
   "source": []
  }
 ],
 "metadata": {
  "kernelspec": {
   "display_name": "venv",
   "language": "python",
   "name": "python3"
  },
  "language_info": {
   "codemirror_mode": {
    "name": "ipython",
    "version": 3
   },
   "file_extension": ".py",
   "mimetype": "text/x-python",
   "name": "python",
   "nbconvert_exporter": "python",
   "pygments_lexer": "ipython3",
   "version": "3.11.3"
  },
  "orig_nbformat": 4
 },
 "nbformat": 4,
 "nbformat_minor": 2
}
