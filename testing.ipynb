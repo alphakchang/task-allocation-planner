{
 "cells": [
  {
   "cell_type": "code",
   "execution_count": 11,
   "metadata": {},
   "outputs": [],
   "source": [
    "import pandas as pd"
   ]
  },
  {
   "cell_type": "code",
   "execution_count": 47,
   "metadata": {},
   "outputs": [
    {
     "data": {
      "text/html": [
       "<div>\n",
       "<style scoped>\n",
       "    .dataframe tbody tr th:only-of-type {\n",
       "        vertical-align: middle;\n",
       "    }\n",
       "\n",
       "    .dataframe tbody tr th {\n",
       "        vertical-align: top;\n",
       "    }\n",
       "\n",
       "    .dataframe thead th {\n",
       "        text-align: right;\n",
       "    }\n",
       "</style>\n",
       "<table border=\"1\" class=\"dataframe\">\n",
       "  <thead>\n",
       "    <tr style=\"text-align: right;\">\n",
       "      <th></th>\n",
       "      <th>username</th>\n",
       "      <th>name</th>\n",
       "      <th>locale</th>\n",
       "      <th>team</th>\n",
       "      <th>contract_hours</th>\n",
       "      <th>output</th>\n",
       "      <th>keep_deadlines</th>\n",
       "      <th>start_time</th>\n",
       "      <th>end_time</th>\n",
       "      <th>plate</th>\n",
       "      <th>client_exp</th>\n",
       "      <th>expertise</th>\n",
       "      <th>client_redflag</th>\n",
       "      <th>translation</th>\n",
       "      <th>review</th>\n",
       "      <th>lso</th>\n",
       "      <th>client_meeting</th>\n",
       "      <th>test_translation</th>\n",
       "    </tr>\n",
       "  </thead>\n",
       "  <tbody>\n",
       "    <tr>\n",
       "      <th>0</th>\n",
       "      <td>farm</td>\n",
       "      <td>farm bro</td>\n",
       "      <td>fb</td>\n",
       "      <td>fashion</td>\n",
       "      <td>8.0</td>\n",
       "      <td>2400</td>\n",
       "      <td>10</td>\n",
       "      <td>09:00:00</td>\n",
       "      <td>17:00:00</td>\n",
       "      <td></td>\n",
       "      <td></td>\n",
       "      <td></td>\n",
       "      <td></td>\n",
       "      <td>True</td>\n",
       "      <td>True</td>\n",
       "      <td>True</td>\n",
       "      <td>True</td>\n",
       "      <td>True</td>\n",
       "    </tr>\n",
       "    <tr>\n",
       "      <th>1</th>\n",
       "      <td>kensolo</td>\n",
       "      <td>Ken Solo</td>\n",
       "      <td>ks</td>\n",
       "      <td>fashion</td>\n",
       "      <td>8.0</td>\n",
       "      <td>2400</td>\n",
       "      <td>10</td>\n",
       "      <td>09:00:00</td>\n",
       "      <td>17:00:00</td>\n",
       "      <td>translation1,translation2,translation3,transla...</td>\n",
       "      <td></td>\n",
       "      <td></td>\n",
       "      <td></td>\n",
       "      <td>True</td>\n",
       "      <td>True</td>\n",
       "      <td>True</td>\n",
       "      <td>True</td>\n",
       "      <td>True</td>\n",
       "    </tr>\n",
       "  </tbody>\n",
       "</table>\n",
       "</div>"
      ],
      "text/plain": [
       "  username      name locale     team  contract_hours  output  keep_deadlines  \\\n",
       "0     farm  farm bro     fb  fashion             8.0    2400              10   \n",
       "1  kensolo  Ken Solo     ks  fashion             8.0    2400              10   \n",
       "\n",
       "  start_time  end_time                                              plate  \\\n",
       "0   09:00:00  17:00:00                                                      \n",
       "1   09:00:00  17:00:00  translation1,translation2,translation3,transla...   \n",
       "\n",
       "  client_exp expertise client_redflag  translation  review   lso  \\\n",
       "0                                             True    True  True   \n",
       "1                                             True    True  True   \n",
       "\n",
       "   client_meeting  test_translation  \n",
       "0            True              True  \n",
       "1            True              True  "
      ]
     },
     "execution_count": 47,
     "metadata": {},
     "output_type": "execute_result"
    }
   ],
   "source": [
    "linguists = pd.read_pickle('database/fashion/fashion_linguists.pkl')\n",
    "linguists"
   ]
  },
  {
   "cell_type": "code",
   "execution_count": 48,
   "metadata": {},
   "outputs": [
    {
     "data": {
      "text/plain": [
       "['translation1',\n",
       " 'translation2',\n",
       " 'translation3',\n",
       " 'translation4',\n",
       " 'translation5',\n",
       " 'translation6',\n",
       " 'translation7']"
      ]
     },
     "execution_count": 48,
     "metadata": {},
     "output_type": "execute_result"
    }
   ],
   "source": [
    "linguists.loc[linguists[\"username\"] == \"kensolo\", \"plate\"].values[0].split(\",\")"
   ]
  },
  {
   "cell_type": "code",
   "execution_count": 46,
   "metadata": {},
   "outputs": [
    {
     "data": {
      "text/html": [
       "<div>\n",
       "<style scoped>\n",
       "    .dataframe tbody tr th:only-of-type {\n",
       "        vertical-align: middle;\n",
       "    }\n",
       "\n",
       "    .dataframe tbody tr th {\n",
       "        vertical-align: top;\n",
       "    }\n",
       "\n",
       "    .dataframe thead th {\n",
       "        text-align: right;\n",
       "    }\n",
       "</style>\n",
       "<table border=\"1\" class=\"dataframe\">\n",
       "  <thead>\n",
       "    <tr style=\"text-align: right;\">\n",
       "      <th></th>\n",
       "      <th>username</th>\n",
       "      <th>contractual_availability</th>\n",
       "      <th>2023-07-03</th>\n",
       "      <th>2023-07-06</th>\n",
       "      <th>2023-07-05</th>\n",
       "      <th>2023-07-04</th>\n",
       "      <th>2023-07-10</th>\n",
       "      <th>2023-07-09</th>\n",
       "    </tr>\n",
       "  </thead>\n",
       "  <tbody>\n",
       "    <tr>\n",
       "      <th>0</th>\n",
       "      <td>kensolo</td>\n",
       "      <td>8.0</td>\n",
       "      <td>6.0</td>\n",
       "      <td>2.0</td>\n",
       "      <td>8.0</td>\n",
       "      <td>2.0</td>\n",
       "      <td>8.0</td>\n",
       "      <td>4.0</td>\n",
       "    </tr>\n",
       "  </tbody>\n",
       "</table>\n",
       "</div>"
      ],
      "text/plain": [
       "  username  contractual_availability  2023-07-03  2023-07-06  2023-07-05  \\\n",
       "0  kensolo                       8.0         6.0         2.0         8.0   \n",
       "\n",
       "   2023-07-04  2023-07-10  2023-07-09  \n",
       "0         2.0         8.0         4.0  "
      ]
     },
     "execution_count": 46,
     "metadata": {},
     "output_type": "execute_result"
    }
   ],
   "source": [
    "df = pd.read_pickle('database/fashion/kensolo_workload.pkl')\n",
    "df"
   ]
  },
  {
   "cell_type": "code",
   "execution_count": 47,
   "metadata": {},
   "outputs": [],
   "source": [
    "df = pd.DataFrame({\n",
    "    'name': ['JohnDoe', 'Alice', 'Bob', 'JohnDoe'],\n",
    "    'age': [25, 24, 22, 25],\n",
    "    'assignee': ['a', 'b', 'a', 'a'],\n",
    "    'city': ['london', 'liverpool', 'london', 'liverpool']\n",
    "})"
   ]
  },
  {
   "cell_type": "code",
   "execution_count": 48,
   "metadata": {},
   "outputs": [
    {
     "name": "stdout",
     "output_type": "stream",
     "text": [
      "47\n"
     ]
    }
   ],
   "source": [
    "# Define conditions for 'assignee' and 'city'\n",
    "condition = (df['assignee'] == 'a') & (df['city'] == 'london')\n",
    "\n",
    "# Calculate the sum of 'age' for those rows satisfying the condition\n",
    "sum_age = df[condition]['age'].sum()\n",
    "\n",
    "print(sum_age)"
   ]
  },
  {
   "cell_type": "code",
   "execution_count": 45,
   "metadata": {},
   "outputs": [
    {
     "data": {
      "text/html": [
       "<div>\n",
       "<style scoped>\n",
       "    .dataframe tbody tr th:only-of-type {\n",
       "        vertical-align: middle;\n",
       "    }\n",
       "\n",
       "    .dataframe tbody tr th {\n",
       "        vertical-align: top;\n",
       "    }\n",
       "\n",
       "    .dataframe thead th {\n",
       "        text-align: right;\n",
       "    }\n",
       "</style>\n",
       "<table border=\"1\" class=\"dataframe\">\n",
       "  <thead>\n",
       "    <tr style=\"text-align: right;\">\n",
       "      <th></th>\n",
       "      <th>name</th>\n",
       "      <th>locale</th>\n",
       "      <th>task_type</th>\n",
       "      <th>deadline</th>\n",
       "      <th>default_rate</th>\n",
       "      <th>required_hours</th>\n",
       "      <th>assignee_required_hours</th>\n",
       "      <th>team</th>\n",
       "      <th>assignee</th>\n",
       "      <th>status</th>\n",
       "      <th>completion_date</th>\n",
       "      <th>start_datetime</th>\n",
       "      <th>end_datetime</th>\n",
       "      <th>same_day_fit</th>\n",
       "      <th>2023-07-03</th>\n",
       "      <th>2023-07-06</th>\n",
       "      <th>2023-07-05</th>\n",
       "      <th>2023-07-04</th>\n",
       "      <th>2023-07-10</th>\n",
       "      <th>2023-07-09</th>\n",
       "    </tr>\n",
       "  </thead>\n",
       "  <tbody>\n",
       "    <tr>\n",
       "      <th>0</th>\n",
       "      <td>translation1</td>\n",
       "      <td>tw</td>\n",
       "      <td>translation</td>\n",
       "      <td>2023-07-03 11:00:00</td>\n",
       "      <td>2400</td>\n",
       "      <td>2</td>\n",
       "      <td>2.0</td>\n",
       "      <td>fashion</td>\n",
       "      <td>kensolo</td>\n",
       "      <td>Open</td>\n",
       "      <td>None</td>\n",
       "      <td>2023-07-03 15:00:00</td>\n",
       "      <td>2023-07-03 17:00:00</td>\n",
       "      <td>True</td>\n",
       "      <td>2.0</td>\n",
       "      <td>NaN</td>\n",
       "      <td>NaN</td>\n",
       "      <td>NaN</td>\n",
       "      <td>NaN</td>\n",
       "      <td>NaN</td>\n",
       "    </tr>\n",
       "    <tr>\n",
       "      <th>1</th>\n",
       "      <td>translation2</td>\n",
       "      <td>tw</td>\n",
       "      <td>translation</td>\n",
       "      <td>2023-07-04 11:00:00</td>\n",
       "      <td>2400</td>\n",
       "      <td>2</td>\n",
       "      <td>2.0</td>\n",
       "      <td>fashion</td>\n",
       "      <td>kensolo</td>\n",
       "      <td>Open</td>\n",
       "      <td>None</td>\n",
       "      <td>2023-07-03 15:00:00</td>\n",
       "      <td>2023-07-03 17:00:00</td>\n",
       "      <td>False</td>\n",
       "      <td>2.0</td>\n",
       "      <td>NaN</td>\n",
       "      <td>NaN</td>\n",
       "      <td>NaN</td>\n",
       "      <td>NaN</td>\n",
       "      <td>NaN</td>\n",
       "    </tr>\n",
       "    <tr>\n",
       "      <th>2</th>\n",
       "      <td>translation3</td>\n",
       "      <td>tw</td>\n",
       "      <td>translation</td>\n",
       "      <td>2023-07-05 11:00:00</td>\n",
       "      <td>2400</td>\n",
       "      <td>2</td>\n",
       "      <td>2.0</td>\n",
       "      <td>fashion</td>\n",
       "      <td>kensolo</td>\n",
       "      <td>Open</td>\n",
       "      <td>None</td>\n",
       "      <td>2023-07-03 15:00:00</td>\n",
       "      <td>2023-07-03 17:00:00</td>\n",
       "      <td>False</td>\n",
       "      <td>2.0</td>\n",
       "      <td>NaN</td>\n",
       "      <td>NaN</td>\n",
       "      <td>NaN</td>\n",
       "      <td>NaN</td>\n",
       "      <td>NaN</td>\n",
       "    </tr>\n",
       "    <tr>\n",
       "      <th>3</th>\n",
       "      <td>translation4</td>\n",
       "      <td>tw</td>\n",
       "      <td>translation</td>\n",
       "      <td>2023-07-06 11:00:00</td>\n",
       "      <td>2400</td>\n",
       "      <td>2</td>\n",
       "      <td>2.0</td>\n",
       "      <td>fashion</td>\n",
       "      <td>kensolo</td>\n",
       "      <td>Open</td>\n",
       "      <td>None</td>\n",
       "      <td>2023-07-06 15:00:00</td>\n",
       "      <td>2023-07-06 17:00:00</td>\n",
       "      <td>False</td>\n",
       "      <td>NaN</td>\n",
       "      <td>2.0</td>\n",
       "      <td>NaN</td>\n",
       "      <td>NaN</td>\n",
       "      <td>NaN</td>\n",
       "      <td>NaN</td>\n",
       "    </tr>\n",
       "    <tr>\n",
       "      <th>4</th>\n",
       "      <td>translation5</td>\n",
       "      <td>tw</td>\n",
       "      <td>translation</td>\n",
       "      <td>2023-07-06 11:00:00</td>\n",
       "      <td>2400</td>\n",
       "      <td>10</td>\n",
       "      <td>10.0</td>\n",
       "      <td>fashion</td>\n",
       "      <td>kensolo</td>\n",
       "      <td>Open</td>\n",
       "      <td>None</td>\n",
       "      <td>2023-07-05 13:00:00</td>\n",
       "      <td>2023-07-05 17:00:00</td>\n",
       "      <td>False</td>\n",
       "      <td>NaN</td>\n",
       "      <td>NaN</td>\n",
       "      <td>8.0</td>\n",
       "      <td>2.0</td>\n",
       "      <td>NaN</td>\n",
       "      <td>NaN</td>\n",
       "    </tr>\n",
       "    <tr>\n",
       "      <th>5</th>\n",
       "      <td>translation6</td>\n",
       "      <td>tw</td>\n",
       "      <td>translation</td>\n",
       "      <td>2023-07-10 11:00:00</td>\n",
       "      <td>2400</td>\n",
       "      <td>2</td>\n",
       "      <td>2.0</td>\n",
       "      <td>fashion</td>\n",
       "      <td>kensolo</td>\n",
       "      <td>Open</td>\n",
       "      <td>None</td>\n",
       "      <td>2023-07-10 15:00:00</td>\n",
       "      <td>2023-07-10 17:00:00</td>\n",
       "      <td>False</td>\n",
       "      <td>NaN</td>\n",
       "      <td>NaN</td>\n",
       "      <td>NaN</td>\n",
       "      <td>NaN</td>\n",
       "      <td>2.0</td>\n",
       "      <td>NaN</td>\n",
       "    </tr>\n",
       "    <tr>\n",
       "      <th>6</th>\n",
       "      <td>translation7</td>\n",
       "      <td>tw</td>\n",
       "      <td>translation</td>\n",
       "      <td>2023-07-10 11:00:00</td>\n",
       "      <td>2400</td>\n",
       "      <td>10</td>\n",
       "      <td>10.0</td>\n",
       "      <td>fashion</td>\n",
       "      <td>kensolo</td>\n",
       "      <td>Open</td>\n",
       "      <td>None</td>\n",
       "      <td>2023-07-09 13:00:00</td>\n",
       "      <td>2023-07-10 15:00:00</td>\n",
       "      <td>False</td>\n",
       "      <td>NaN</td>\n",
       "      <td>NaN</td>\n",
       "      <td>NaN</td>\n",
       "      <td>NaN</td>\n",
       "      <td>6.0</td>\n",
       "      <td>4.0</td>\n",
       "    </tr>\n",
       "  </tbody>\n",
       "</table>\n",
       "</div>"
      ],
      "text/plain": [
       "           name locale    task_type            deadline  default_rate  \\\n",
       "0  translation1     tw  translation 2023-07-03 11:00:00          2400   \n",
       "1  translation2     tw  translation 2023-07-04 11:00:00          2400   \n",
       "2  translation3     tw  translation 2023-07-05 11:00:00          2400   \n",
       "3  translation4     tw  translation 2023-07-06 11:00:00          2400   \n",
       "4  translation5     tw  translation 2023-07-06 11:00:00          2400   \n",
       "5  translation6     tw  translation 2023-07-10 11:00:00          2400   \n",
       "6  translation7     tw  translation 2023-07-10 11:00:00          2400   \n",
       "\n",
       "   required_hours assignee_required_hours     team assignee status  \\\n",
       "0               2                     2.0  fashion  kensolo   Open   \n",
       "1               2                     2.0  fashion  kensolo   Open   \n",
       "2               2                     2.0  fashion  kensolo   Open   \n",
       "3               2                     2.0  fashion  kensolo   Open   \n",
       "4              10                    10.0  fashion  kensolo   Open   \n",
       "5               2                     2.0  fashion  kensolo   Open   \n",
       "6              10                    10.0  fashion  kensolo   Open   \n",
       "\n",
       "  completion_date       start_datetime         end_datetime same_day_fit  \\\n",
       "0            None  2023-07-03 15:00:00  2023-07-03 17:00:00         True   \n",
       "1            None  2023-07-03 15:00:00  2023-07-03 17:00:00        False   \n",
       "2            None  2023-07-03 15:00:00  2023-07-03 17:00:00        False   \n",
       "3            None  2023-07-06 15:00:00  2023-07-06 17:00:00        False   \n",
       "4            None  2023-07-05 13:00:00  2023-07-05 17:00:00        False   \n",
       "5            None  2023-07-10 15:00:00  2023-07-10 17:00:00        False   \n",
       "6            None  2023-07-09 13:00:00  2023-07-10 15:00:00        False   \n",
       "\n",
       "   2023-07-03  2023-07-06  2023-07-05  2023-07-04  2023-07-10  2023-07-09  \n",
       "0         2.0         NaN         NaN         NaN         NaN         NaN  \n",
       "1         2.0         NaN         NaN         NaN         NaN         NaN  \n",
       "2         2.0         NaN         NaN         NaN         NaN         NaN  \n",
       "3         NaN         2.0         NaN         NaN         NaN         NaN  \n",
       "4         NaN         NaN         8.0         2.0         NaN         NaN  \n",
       "5         NaN         NaN         NaN         NaN         2.0         NaN  \n",
       "6         NaN         NaN         NaN         NaN         6.0         4.0  "
      ]
     },
     "execution_count": 45,
     "metadata": {},
     "output_type": "execute_result"
    }
   ],
   "source": [
    "tasks = pd.read_pickle('database/fashion/fashion_tasks.pkl')\n",
    "tasks"
   ]
  },
  {
   "cell_type": "code",
   "execution_count": 21,
   "metadata": {},
   "outputs": [],
   "source": [
    "tasks.to_pickle('database/fashion/fashion_tasks.pkl')"
   ]
  },
  {
   "cell_type": "code",
   "execution_count": 64,
   "metadata": {},
   "outputs": [],
   "source": [
    "tasks['deadline'] = pd.to_datetime(tasks['deadline'])\n",
    "today = datetime.now().strftime('%Y-%m-%d')\n",
    "deadline_dates = tasks['deadline'].dt.date.astype(str)\n",
    "condition = (deadline_dates == today) & (tasks[\"assignee\"] == \"kensolo\")\n",
    "sum_hrs = tasks[condition][\"required_hours\"].sum()"
   ]
  },
  {
   "cell_type": "code",
   "execution_count": 70,
   "metadata": {},
   "outputs": [
    {
     "data": {
      "text/plain": [
       "0    2023-06-30\n",
       "1    2023-07-01\n",
       "Name: deadline, dtype: object"
      ]
     },
     "execution_count": 70,
     "metadata": {},
     "output_type": "execute_result"
    }
   ],
   "source": [
    "deadline_dates"
   ]
  },
  {
   "cell_type": "code",
   "execution_count": 27,
   "metadata": {},
   "outputs": [
    {
     "data": {
      "text/html": [
       "<div>\n",
       "<style scoped>\n",
       "    .dataframe tbody tr th:only-of-type {\n",
       "        vertical-align: middle;\n",
       "    }\n",
       "\n",
       "    .dataframe tbody tr th {\n",
       "        vertical-align: top;\n",
       "    }\n",
       "\n",
       "    .dataframe thead th {\n",
       "        text-align: right;\n",
       "    }\n",
       "</style>\n",
       "<table border=\"1\" class=\"dataframe\">\n",
       "  <thead>\n",
       "    <tr style=\"text-align: right;\">\n",
       "      <th></th>\n",
       "      <th>name</th>\n",
       "      <th>locale</th>\n",
       "      <th>task_type</th>\n",
       "      <th>deadline</th>\n",
       "      <th>default_rate</th>\n",
       "      <th>required_hours</th>\n",
       "      <th>assignee_required_hours</th>\n",
       "      <th>team</th>\n",
       "      <th>assignee</th>\n",
       "      <th>status</th>\n",
       "      <th>completion_date</th>\n",
       "      <th>start_datetime</th>\n",
       "      <th>end_datetime</th>\n",
       "      <th>same_day_fit</th>\n",
       "      <th>2023-07-03</th>\n",
       "    </tr>\n",
       "  </thead>\n",
       "  <tbody>\n",
       "    <tr>\n",
       "      <th>0</th>\n",
       "      <td>translation1</td>\n",
       "      <td>tw</td>\n",
       "      <td>translation</td>\n",
       "      <td>2023-07-03 11:00:00</td>\n",
       "      <td>2400</td>\n",
       "      <td>2</td>\n",
       "      <td>2.0</td>\n",
       "      <td>fashion</td>\n",
       "      <td>kensolo</td>\n",
       "      <td>Open</td>\n",
       "      <td>None</td>\n",
       "      <td>2023-07-03 15:00:00</td>\n",
       "      <td>2023-07-03 17:00:00</td>\n",
       "      <td>True</td>\n",
       "      <td>2.0</td>\n",
       "    </tr>\n",
       "    <tr>\n",
       "      <th>1</th>\n",
       "      <td>translation2</td>\n",
       "      <td>tw</td>\n",
       "      <td>translation</td>\n",
       "      <td>2023-07-04 11:00:00</td>\n",
       "      <td>2400</td>\n",
       "      <td>2</td>\n",
       "      <td>2.0</td>\n",
       "      <td>fashion</td>\n",
       "      <td>kensolo</td>\n",
       "      <td>Open</td>\n",
       "      <td>None</td>\n",
       "      <td>2023-07-03 15:00:00</td>\n",
       "      <td>2023-07-03 17:00:00</td>\n",
       "      <td>False</td>\n",
       "      <td>2.0</td>\n",
       "    </tr>\n",
       "  </tbody>\n",
       "</table>\n",
       "</div>"
      ],
      "text/plain": [
       "           name locale    task_type            deadline  default_rate  \\\n",
       "0  translation1     tw  translation 2023-07-03 11:00:00          2400   \n",
       "1  translation2     tw  translation 2023-07-04 11:00:00          2400   \n",
       "\n",
       "   required_hours assignee_required_hours     team assignee status  \\\n",
       "0               2                     2.0  fashion  kensolo   Open   \n",
       "1               2                     2.0  fashion  kensolo   Open   \n",
       "\n",
       "  completion_date       start_datetime         end_datetime same_day_fit  \\\n",
       "0            None  2023-07-03 15:00:00  2023-07-03 17:00:00         True   \n",
       "1            None  2023-07-03 15:00:00  2023-07-03 17:00:00        False   \n",
       "\n",
       "   2023-07-03  \n",
       "0         2.0  \n",
       "1         2.0  "
      ]
     },
     "execution_count": 27,
     "metadata": {},
     "output_type": "execute_result"
    }
   ],
   "source": [
    "tasks"
   ]
  },
  {
   "cell_type": "code",
   "execution_count": 67,
   "metadata": {},
   "outputs": [
    {
     "data": {
      "text/plain": [
       "dtype('<M8[ns]')"
      ]
     },
     "execution_count": 67,
     "metadata": {},
     "output_type": "execute_result"
    }
   ],
   "source": [
    "tasks['deadline'].dtype"
   ]
  },
  {
   "cell_type": "code",
   "execution_count": 27,
   "metadata": {},
   "outputs": [],
   "source": [
    "from datetime import datetime, timedelta"
   ]
  },
  {
   "cell_type": "code",
   "execution_count": 24,
   "metadata": {},
   "outputs": [],
   "source": [
    "my_dt = datetime(2023, 7, 1, 16, 57, 7, 200000)"
   ]
  },
  {
   "cell_type": "code",
   "execution_count": 36,
   "metadata": {},
   "outputs": [
    {
     "data": {
      "text/plain": [
       "'2023-06-30'"
      ]
     },
     "execution_count": 36,
     "metadata": {},
     "output_type": "execute_result"
    }
   ],
   "source": [
    "new_dt = my_dt - timedelta(hours=24)\n",
    "string_new_dt = new_dt.strftime('%Y-%m-%d')\n",
    "string_new_dt"
   ]
  },
  {
   "cell_type": "code",
   "execution_count": 38,
   "metadata": {},
   "outputs": [
    {
     "data": {
      "text/plain": [
       "datetime.datetime(2023, 6, 30, 0, 0)"
      ]
     },
     "execution_count": 38,
     "metadata": {},
     "output_type": "execute_result"
    }
   ],
   "source": [
    "new_dt_datetime = datetime.strptime(string_new_dt, '%Y-%m-%d')\n",
    "new_dt_datetime"
   ]
  },
  {
   "cell_type": "code",
   "execution_count": 71,
   "metadata": {},
   "outputs": [
    {
     "data": {
      "text/plain": [
       "datetime.datetime(2023, 7, 1, 19, 40, 1, 424355)"
      ]
     },
     "execution_count": 71,
     "metadata": {},
     "output_type": "execute_result"
    }
   ],
   "source": [
    "datetime.today()"
   ]
  },
  {
   "cell_type": "code",
   "execution_count": null,
   "metadata": {},
   "outputs": [],
   "source": []
  }
 ],
 "metadata": {
  "kernelspec": {
   "display_name": "venv",
   "language": "python",
   "name": "python3"
  },
  "language_info": {
   "codemirror_mode": {
    "name": "ipython",
    "version": 3
   },
   "file_extension": ".py",
   "mimetype": "text/x-python",
   "name": "python",
   "nbconvert_exporter": "python",
   "pygments_lexer": "ipython3",
   "version": "3.11.3"
  },
  "orig_nbformat": 4
 },
 "nbformat": 4,
 "nbformat_minor": 2
}
